{
 "cells": [
  {
   "cell_type": "code",
   "execution_count": 1,
   "id": "dcef2d56",
   "metadata": {},
   "outputs": [],
   "source": [
    "import pandas as pd\n",
    "import numpy as np \n",
    "import matplotlib as mt\n",
    "import matplotlib.pyplot as plt"
   ]
  },
  {
   "cell_type": "code",
   "execution_count": 2,
   "id": "299dc7e0",
   "metadata": {},
   "outputs": [],
   "source": [
    "import tensorflow as tf\n",
    "from tensorflow import keras"
   ]
  },
  {
   "cell_type": "code",
   "execution_count": 3,
   "id": "fba46a94",
   "metadata": {},
   "outputs": [],
   "source": [
    "fm = keras.datasets.fashion_mnist\n",
    "(x_train_full,y_train_full),(x_test,y_test) = fm.load_data()\n",
    "class_names = [\"T-Shirt\",\"Trousers\",\"Pullover\",\"Dress\",\"Coat\",\n",
    "               \"sandal\",\"shirt\",\"Sneaker\",\"Bag\",\"Ankle boot\"]"
   ]
  },
  {
   "cell_type": "markdown",
   "id": "7ec4ff1e",
   "metadata": {},
   "source": [
    "## Data Reshape"
   ]
  },
  {
   "cell_type": "code",
   "execution_count": 4,
   "id": "75ac5da0",
   "metadata": {},
   "outputs": [],
   "source": [
    "x_train_full = x_train_full.reshape((60000,28,28,1))\n",
    "x_test = x_test.reshape((10000,28,28,1))"
   ]
  },
  {
   "cell_type": "markdown",
   "id": "a5ff81c8",
   "metadata": {},
   "source": [
    "##  Data Normalization"
   ]
  },
  {
   "cell_type": "markdown",
   "id": "dd035206",
   "metadata": {},
   "source": [
    "We need to normalize the data dimensions so that they are of approximately the same scale "
   ]
  },
  {
   "cell_type": "code",
   "execution_count": 5,
   "id": "1db9f3c2",
   "metadata": {},
   "outputs": [],
   "source": [
    "x_train_n  =x_train_full/255.0\n",
    "x_test_n = x_test / 255.0"
   ]
  },
  {
   "cell_type": "markdown",
   "id": "22481b79",
   "metadata": {},
   "source": [
    "##  train test "
   ]
  },
  {
   "cell_type": "code",
   "execution_count": 6,
   "id": "36fae785",
   "metadata": {},
   "outputs": [],
   "source": [
    "x_valid,x_train = x_train_n[:5000],x_train_n[5000:]\n",
    "y_valid,y_train = y_train_full[:5000],y_train_full[5000:]\n",
    "x_test = x_test_n"
   ]
  },
  {
   "cell_type": "markdown",
   "id": "140ef70d",
   "metadata": {},
   "source": [
    "\n",
    "## Create Architecture\n"
   ]
  },
  {
   "cell_type": "code",
   "execution_count": 7,
   "id": "502accfe",
   "metadata": {},
   "outputs": [],
   "source": [
    "np.random.seed(42)\n",
    "tf.random.set_seed(42)"
   ]
  },
  {
   "cell_type": "code",
   "execution_count": 8,
   "id": "2be8086a",
   "metadata": {},
   "outputs": [],
   "source": [
    "model = keras.models.Sequential()\n",
    "model.add(keras.layers.Conv2D(filters=32,\n",
    "                              kernel_size=(3,3),\n",
    "                              strides=1,\n",
    "                              padding='valid',\n",
    "                              activation='relu',\n",
    "                              input_shape=(28,28,1)))\n",
    "\n",
    "model.add(keras.layers.MaxPooling2D((2,2)))\n",
    "model.add(keras.layers.Flatten())\n",
    "model.add(keras.layers.Dense(300,activation=\"relu\"))\n",
    "model.add(keras.layers.Dense(100,activation=\"relu\"))\n",
    "model.add(keras.layers.Dense(10,activation=\"softmax\"))"
   ]
  },
  {
   "cell_type": "code",
   "execution_count": 9,
   "id": "b6cf5add",
   "metadata": {},
   "outputs": [
    {
     "name": "stdout",
     "output_type": "stream",
     "text": [
      "Model: \"sequential\"\n",
      "_________________________________________________________________\n",
      " Layer (type)                Output Shape              Param #   \n",
      "=================================================================\n",
      " conv2d (Conv2D)             (None, 26, 26, 32)        320       \n",
      "                                                                 \n",
      " max_pooling2d (MaxPooling2D  (None, 13, 13, 32)       0         \n",
      " )                                                               \n",
      "                                                                 \n",
      " flatten (Flatten)           (None, 5408)              0         \n",
      "                                                                 \n",
      " dense (Dense)               (None, 300)               1622700   \n",
      "                                                                 \n",
      " dense_1 (Dense)             (None, 100)               30100     \n",
      "                                                                 \n",
      " dense_2 (Dense)             (None, 10)                1010      \n",
      "                                                                 \n",
      "=================================================================\n",
      "Total params: 1,654,130\n",
      "Trainable params: 1,654,130\n",
      "Non-trainable params: 0\n",
      "_________________________________________________________________\n"
     ]
    }
   ],
   "source": [
    "model.summary()"
   ]
  },
  {
   "cell_type": "code",
   "execution_count": 10,
   "id": "4755bbd3",
   "metadata": {},
   "outputs": [],
   "source": [
    "model.compile(loss=\"sparse_categorical_crossentropy\",\n",
    "             optimizer=\"sgd\",\n",
    "             metrics=[\"accuracy\"])"
   ]
  },
  {
   "cell_type": "code",
   "execution_count": 11,
   "id": "ab7596e8",
   "metadata": {},
   "outputs": [
    {
     "name": "stdout",
     "output_type": "stream",
     "text": [
      "Epoch 1/30\n",
      "860/860 [==============================] - 24s 27ms/step - loss: 0.8463 - accuracy: 0.7095 - val_loss: 0.7374 - val_accuracy: 0.7378\n",
      "Epoch 2/30\n",
      "860/860 [==============================] - 21s 24ms/step - loss: 0.5349 - accuracy: 0.8053 - val_loss: 0.4879 - val_accuracy: 0.8180\n",
      "Epoch 3/30\n",
      "860/860 [==============================] - 21s 24ms/step - loss: 0.4782 - accuracy: 0.8277 - val_loss: 0.9348 - val_accuracy: 0.7044\n",
      "Epoch 4/30\n",
      "860/860 [==============================] - 21s 24ms/step - loss: 0.4398 - accuracy: 0.8428 - val_loss: 0.4031 - val_accuracy: 0.8648\n",
      "Epoch 5/30\n",
      "860/860 [==============================] - 21s 24ms/step - loss: 0.4157 - accuracy: 0.8509 - val_loss: 0.4046 - val_accuracy: 0.8558\n",
      "Epoch 6/30\n",
      "860/860 [==============================] - 21s 24ms/step - loss: 0.3912 - accuracy: 0.8606 - val_loss: 0.3681 - val_accuracy: 0.8736\n",
      "Epoch 7/30\n",
      "860/860 [==============================] - 21s 25ms/step - loss: 0.3734 - accuracy: 0.8664 - val_loss: 0.4115 - val_accuracy: 0.8564\n",
      "Epoch 8/30\n",
      "860/860 [==============================] - 23s 27ms/step - loss: 0.3584 - accuracy: 0.8718 - val_loss: 0.4883 - val_accuracy: 0.8202\n",
      "Epoch 9/30\n",
      "860/860 [==============================] - 23s 27ms/step - loss: 0.3445 - accuracy: 0.8754 - val_loss: 0.3776 - val_accuracy: 0.8598\n",
      "Epoch 10/30\n",
      "860/860 [==============================] - 26s 31ms/step - loss: 0.3339 - accuracy: 0.8793 - val_loss: 0.3724 - val_accuracy: 0.8614\n",
      "Epoch 11/30\n",
      "860/860 [==============================] - 26s 31ms/step - loss: 0.3213 - accuracy: 0.8823 - val_loss: 0.3330 - val_accuracy: 0.8794\n",
      "Epoch 12/30\n",
      "860/860 [==============================] - 23s 27ms/step - loss: 0.3109 - accuracy: 0.8876 - val_loss: 0.3279 - val_accuracy: 0.8852\n",
      "Epoch 13/30\n",
      "860/860 [==============================] - 22s 26ms/step - loss: 0.3040 - accuracy: 0.8900 - val_loss: 0.3378 - val_accuracy: 0.8848\n",
      "Epoch 14/30\n",
      "860/860 [==============================] - 21s 25ms/step - loss: 0.2962 - accuracy: 0.8919 - val_loss: 0.3890 - val_accuracy: 0.8580\n",
      "Epoch 15/30\n",
      "860/860 [==============================] - 22s 25ms/step - loss: 0.2879 - accuracy: 0.8959 - val_loss: 0.3803 - val_accuracy: 0.8614\n",
      "Epoch 16/30\n",
      "860/860 [==============================] - 23s 26ms/step - loss: 0.2820 - accuracy: 0.8975 - val_loss: 0.2940 - val_accuracy: 0.8944\n",
      "Epoch 17/30\n",
      "860/860 [==============================] - 23s 27ms/step - loss: 0.2747 - accuracy: 0.8998 - val_loss: 0.3905 - val_accuracy: 0.8658\n",
      "Epoch 18/30\n",
      "860/860 [==============================] - 23s 27ms/step - loss: 0.2692 - accuracy: 0.9009 - val_loss: 0.3436 - val_accuracy: 0.8782\n",
      "Epoch 19/30\n",
      "860/860 [==============================] - 23s 27ms/step - loss: 0.2633 - accuracy: 0.9043 - val_loss: 0.3044 - val_accuracy: 0.8884\n",
      "Epoch 20/30\n",
      "860/860 [==============================] - 23s 26ms/step - loss: 0.2578 - accuracy: 0.9067 - val_loss: 0.3117 - val_accuracy: 0.8880\n",
      "Epoch 21/30\n",
      "860/860 [==============================] - 22s 25ms/step - loss: 0.2516 - accuracy: 0.9085 - val_loss: 0.2844 - val_accuracy: 0.8934\n",
      "Epoch 22/30\n",
      "860/860 [==============================] - 21s 25ms/step - loss: 0.2462 - accuracy: 0.9101 - val_loss: 0.2858 - val_accuracy: 0.8982\n",
      "Epoch 23/30\n",
      "860/860 [==============================] - 22s 25ms/step - loss: 0.2411 - accuracy: 0.9109 - val_loss: 0.2777 - val_accuracy: 0.9006\n",
      "Epoch 24/30\n",
      "860/860 [==============================] - 24s 28ms/step - loss: 0.2363 - accuracy: 0.9138 - val_loss: 0.3023 - val_accuracy: 0.8898\n",
      "Epoch 25/30\n",
      "860/860 [==============================] - 24s 28ms/step - loss: 0.2315 - accuracy: 0.9153 - val_loss: 0.2832 - val_accuracy: 0.9012\n",
      "Epoch 26/30\n",
      "860/860 [==============================] - 21s 25ms/step - loss: 0.2278 - accuracy: 0.9173 - val_loss: 0.2782 - val_accuracy: 0.9028\n",
      "Epoch 27/30\n",
      "860/860 [==============================] - 21s 25ms/step - loss: 0.2235 - accuracy: 0.9187 - val_loss: 0.2614 - val_accuracy: 0.9056\n",
      "Epoch 28/30\n",
      "860/860 [==============================] - 28s 32ms/step - loss: 0.2190 - accuracy: 0.9202 - val_loss: 0.3003 - val_accuracy: 0.8910\n",
      "Epoch 29/30\n",
      "860/860 [==============================] - 33s 38ms/step - loss: 0.2143 - accuracy: 0.9218 - val_loss: 0.2643 - val_accuracy: 0.9036\n",
      "Epoch 30/30\n",
      "860/860 [==============================] - 28s 33ms/step - loss: 0.2112 - accuracy: 0.9227 - val_loss: 0.2661 - val_accuracy: 0.9054\n"
     ]
    }
   ],
   "source": [
    "model_history = model.fit(x_train,y_train,epochs=30,batch_size=64,\n",
    "                          validation_data=(x_valid,y_valid))"
   ]
  },
  {
   "cell_type": "code",
   "execution_count": null,
   "id": "f2b0d749",
   "metadata": {},
   "outputs": [],
   "source": [
    "import pandas as pd\n"
   ]
  }
 ],
 "metadata": {
  "kernelspec": {
   "display_name": "Python 3 (ipykernel)",
   "language": "python",
   "name": "python3"
  },
  "language_info": {
   "codemirror_mode": {
    "name": "ipython",
    "version": 3
   },
   "file_extension": ".py",
   "mimetype": "text/x-python",
   "name": "python",
   "nbconvert_exporter": "python",
   "pygments_lexer": "ipython3",
   "version": "3.11.3"
  }
 },
 "nbformat": 4,
 "nbformat_minor": 5
}
