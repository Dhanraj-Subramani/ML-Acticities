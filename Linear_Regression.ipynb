{
 "cells": [
  {
   "cell_type": "markdown",
   "id": "1e56bbe8",
   "metadata": {},
   "source": [
    "# Simple Linear Regression"
   ]
  },
  {
   "cell_type": "code",
   "execution_count": 1,
   "id": "dcba339a-bfd6-412b-8465-e64cec249d9b",
   "metadata": {},
   "outputs": [],
   "source": [
    "import numpy as np\n",
    "import pandas as pd \n",
    "import seaborn as sns\n",
    "import statsmodels.api as sm"
   ]
  },
  {
   "cell_type": "code",
   "execution_count": 2,
   "id": "ea0d0a15",
   "metadata": {},
   "outputs": [],
   "source": [
    "df = pd.read_csv(\"D:/Users/sakthi/Documents/ML/Data Files/1. ST Academy - Crash course and Regression files/House_price.csv\",header=0)\n",
    "#df = pd.read_csv(\"D:/Users/sakthi/Documents/ML/Data Files/1. ST Academy - Crash course and Regression files/House_price.csv\",header=0)"
   ]
  },
  {
   "cell_type": "code",
   "execution_count": 3,
   "id": "35825d8d",
   "metadata": {},
   "outputs": [
    {
     "name": "stdout",
     "output_type": "stream",
     "text": [
      "<class 'pandas.core.frame.DataFrame'>\n",
      "RangeIndex: 506 entries, 0 to 505\n",
      "Data columns (total 16 columns):\n",
      " #   Column       Non-Null Count  Dtype  \n",
      "---  ------       --------------  -----  \n",
      " 0   price        506 non-null    float64\n",
      " 1   crime_rate   506 non-null    float64\n",
      " 2   resid_area   506 non-null    float64\n",
      " 3   air_qual     506 non-null    float64\n",
      " 4   room_num     506 non-null    float64\n",
      " 5   age          506 non-null    float64\n",
      " 6   dist1        506 non-null    float64\n",
      " 7   dist2        506 non-null    float64\n",
      " 8   dist3        506 non-null    float64\n",
      " 9   dist4        506 non-null    float64\n",
      " 10  teachers     506 non-null    float64\n",
      " 11  poor_prop    506 non-null    float64\n",
      " 12  n_hos_beds   498 non-null    float64\n",
      " 13  n_hot_rooms  506 non-null    float64\n",
      " 14  rainfall     506 non-null    int64  \n",
      " 15  parks        506 non-null    float64\n",
      "dtypes: float64(15), int64(1)\n",
      "memory usage: 63.4 KB\n"
     ]
    }
   ],
   "source": [
    "df.info()"
   ]
  },
  {
   "cell_type": "code",
   "execution_count": 4,
   "id": "70bbe0ae",
   "metadata": {},
   "outputs": [],
   "source": [
    "#pd.get_dummies(df)"
   ]
  },
  {
   "cell_type": "code",
   "execution_count": 5,
   "id": "14ca00e3",
   "metadata": {},
   "outputs": [],
   "source": [
    "df['n_hos_beds'].fillna(value = df['n_hos_beds'].mean(),inplace=True)"
   ]
  },
  {
   "cell_type": "code",
   "execution_count": 6,
   "id": "8e6f2ff4",
   "metadata": {},
   "outputs": [
    {
     "name": "stdout",
     "output_type": "stream",
     "text": [
      "<class 'pandas.core.frame.DataFrame'>\n",
      "RangeIndex: 506 entries, 0 to 505\n",
      "Data columns (total 16 columns):\n",
      " #   Column       Non-Null Count  Dtype  \n",
      "---  ------       --------------  -----  \n",
      " 0   price        506 non-null    float64\n",
      " 1   crime_rate   506 non-null    float64\n",
      " 2   resid_area   506 non-null    float64\n",
      " 3   air_qual     506 non-null    float64\n",
      " 4   room_num     506 non-null    float64\n",
      " 5   age          506 non-null    float64\n",
      " 6   dist1        506 non-null    float64\n",
      " 7   dist2        506 non-null    float64\n",
      " 8   dist3        506 non-null    float64\n",
      " 9   dist4        506 non-null    float64\n",
      " 10  teachers     506 non-null    float64\n",
      " 11  poor_prop    506 non-null    float64\n",
      " 12  n_hos_beds   506 non-null    float64\n",
      " 13  n_hot_rooms  506 non-null    float64\n",
      " 14  rainfall     506 non-null    int64  \n",
      " 15  parks        506 non-null    float64\n",
      "dtypes: float64(15), int64(1)\n",
      "memory usage: 63.4 KB\n"
     ]
    }
   ],
   "source": [
    "df.info()"
   ]
  },
  {
   "cell_type": "code",
   "execution_count": 7,
   "id": "0ac18828",
   "metadata": {},
   "outputs": [
    {
     "name": "stdout",
     "output_type": "stream",
     "text": [
      "<class 'pandas.core.frame.DataFrame'>\n",
      "RangeIndex: 506 entries, 0 to 505\n",
      "Data columns (total 16 columns):\n",
      " #   Column       Non-Null Count  Dtype  \n",
      "---  ------       --------------  -----  \n",
      " 0   price        506 non-null    float64\n",
      " 1   crime_rate   506 non-null    float64\n",
      " 2   resid_area   506 non-null    float64\n",
      " 3   air_qual     506 non-null    float64\n",
      " 4   room_num     506 non-null    float64\n",
      " 5   age          506 non-null    float64\n",
      " 6   dist1        506 non-null    float64\n",
      " 7   dist2        506 non-null    float64\n",
      " 8   dist3        506 non-null    float64\n",
      " 9   dist4        506 non-null    float64\n",
      " 10  teachers     506 non-null    float64\n",
      " 11  poor_prop    506 non-null    float64\n",
      " 12  n_hos_beds   506 non-null    float64\n",
      " 13  n_hot_rooms  506 non-null    float64\n",
      " 14  rainfall     506 non-null    int64  \n",
      " 15  parks        506 non-null    float64\n",
      "dtypes: float64(15), int64(1)\n",
      "memory usage: 63.4 KB\n"
     ]
    }
   ],
   "source": [
    "df.info()"
   ]
  },
  {
   "cell_type": "code",
   "execution_count": 8,
   "id": "d5c32c08",
   "metadata": {},
   "outputs": [
    {
     "data": {
      "text/html": [
       "<div>\n",
       "<style scoped>\n",
       "    .dataframe tbody tr th:only-of-type {\n",
       "        vertical-align: middle;\n",
       "    }\n",
       "\n",
       "    .dataframe tbody tr th {\n",
       "        vertical-align: top;\n",
       "    }\n",
       "\n",
       "    .dataframe thead th {\n",
       "        text-align: right;\n",
       "    }\n",
       "</style>\n",
       "<table border=\"1\" class=\"dataframe\">\n",
       "  <thead>\n",
       "    <tr style=\"text-align: right;\">\n",
       "      <th></th>\n",
       "      <th>price</th>\n",
       "      <th>crime_rate</th>\n",
       "      <th>resid_area</th>\n",
       "      <th>air_qual</th>\n",
       "      <th>room_num</th>\n",
       "      <th>age</th>\n",
       "      <th>dist1</th>\n",
       "      <th>dist2</th>\n",
       "      <th>dist3</th>\n",
       "      <th>dist4</th>\n",
       "      <th>teachers</th>\n",
       "      <th>poor_prop</th>\n",
       "      <th>n_hos_beds</th>\n",
       "      <th>n_hot_rooms</th>\n",
       "      <th>rainfall</th>\n",
       "      <th>parks</th>\n",
       "    </tr>\n",
       "  </thead>\n",
       "  <tbody>\n",
       "    <tr>\n",
       "      <th>price</th>\n",
       "      <td>1.000000</td>\n",
       "      <td>-0.389582</td>\n",
       "      <td>-0.484754</td>\n",
       "      <td>-0.429300</td>\n",
       "      <td>0.696304</td>\n",
       "      <td>-0.377999</td>\n",
       "      <td>0.251355</td>\n",
       "      <td>0.249459</td>\n",
       "      <td>0.246650</td>\n",
       "      <td>0.248200</td>\n",
       "      <td>0.505655</td>\n",
       "      <td>-0.740836</td>\n",
       "      <td>0.108880</td>\n",
       "      <td>0.023122</td>\n",
       "      <td>-0.047426</td>\n",
       "      <td>-0.391574</td>\n",
       "    </tr>\n",
       "    <tr>\n",
       "      <th>crime_rate</th>\n",
       "      <td>-0.389582</td>\n",
       "      <td>1.000000</td>\n",
       "      <td>0.406583</td>\n",
       "      <td>0.420972</td>\n",
       "      <td>-0.219247</td>\n",
       "      <td>0.352734</td>\n",
       "      <td>-0.380050</td>\n",
       "      <td>-0.379813</td>\n",
       "      <td>-0.380069</td>\n",
       "      <td>-0.376462</td>\n",
       "      <td>-0.289946</td>\n",
       "      <td>0.455621</td>\n",
       "      <td>0.017371</td>\n",
       "      <td>0.013518</td>\n",
       "      <td>0.059204</td>\n",
       "      <td>0.383235</td>\n",
       "    </tr>\n",
       "    <tr>\n",
       "      <th>resid_area</th>\n",
       "      <td>-0.484754</td>\n",
       "      <td>0.406583</td>\n",
       "      <td>1.000000</td>\n",
       "      <td>0.763651</td>\n",
       "      <td>-0.391676</td>\n",
       "      <td>0.644779</td>\n",
       "      <td>-0.706481</td>\n",
       "      <td>-0.707956</td>\n",
       "      <td>-0.707566</td>\n",
       "      <td>-0.705819</td>\n",
       "      <td>-0.383248</td>\n",
       "      <td>0.603800</td>\n",
       "      <td>0.005799</td>\n",
       "      <td>-0.000839</td>\n",
       "      <td>0.055810</td>\n",
       "      <td>0.707635</td>\n",
       "    </tr>\n",
       "    <tr>\n",
       "      <th>air_qual</th>\n",
       "      <td>-0.429300</td>\n",
       "      <td>0.420972</td>\n",
       "      <td>0.763651</td>\n",
       "      <td>1.000000</td>\n",
       "      <td>-0.302188</td>\n",
       "      <td>0.731470</td>\n",
       "      <td>-0.768589</td>\n",
       "      <td>-0.769724</td>\n",
       "      <td>-0.769157</td>\n",
       "      <td>-0.764873</td>\n",
       "      <td>-0.188933</td>\n",
       "      <td>0.590879</td>\n",
       "      <td>-0.049553</td>\n",
       "      <td>-0.004882</td>\n",
       "      <td>0.092104</td>\n",
       "      <td>0.915544</td>\n",
       "    </tr>\n",
       "    <tr>\n",
       "      <th>room_num</th>\n",
       "      <td>0.696304</td>\n",
       "      <td>-0.219247</td>\n",
       "      <td>-0.391676</td>\n",
       "      <td>-0.302188</td>\n",
       "      <td>1.000000</td>\n",
       "      <td>-0.240265</td>\n",
       "      <td>0.208464</td>\n",
       "      <td>0.203981</td>\n",
       "      <td>0.201907</td>\n",
       "      <td>0.205397</td>\n",
       "      <td>0.355501</td>\n",
       "      <td>-0.613808</td>\n",
       "      <td>0.032009</td>\n",
       "      <td>0.030674</td>\n",
       "      <td>-0.064694</td>\n",
       "      <td>-0.282817</td>\n",
       "    </tr>\n",
       "    <tr>\n",
       "      <th>age</th>\n",
       "      <td>-0.377999</td>\n",
       "      <td>0.352734</td>\n",
       "      <td>0.644779</td>\n",
       "      <td>0.731470</td>\n",
       "      <td>-0.240265</td>\n",
       "      <td>1.000000</td>\n",
       "      <td>-0.746904</td>\n",
       "      <td>-0.746493</td>\n",
       "      <td>-0.747021</td>\n",
       "      <td>-0.746707</td>\n",
       "      <td>-0.261515</td>\n",
       "      <td>0.602339</td>\n",
       "      <td>-0.021012</td>\n",
       "      <td>0.009380</td>\n",
       "      <td>0.075198</td>\n",
       "      <td>0.673850</td>\n",
       "    </tr>\n",
       "    <tr>\n",
       "      <th>dist1</th>\n",
       "      <td>0.251355</td>\n",
       "      <td>-0.380050</td>\n",
       "      <td>-0.706481</td>\n",
       "      <td>-0.768589</td>\n",
       "      <td>0.208464</td>\n",
       "      <td>-0.746904</td>\n",
       "      <td>1.000000</td>\n",
       "      <td>0.997905</td>\n",
       "      <td>0.997735</td>\n",
       "      <td>0.994073</td>\n",
       "      <td>0.232834</td>\n",
       "      <td>-0.498823</td>\n",
       "      <td>-0.030365</td>\n",
       "      <td>-0.014463</td>\n",
       "      <td>-0.036794</td>\n",
       "      <td>-0.706319</td>\n",
       "    </tr>\n",
       "    <tr>\n",
       "      <th>dist2</th>\n",
       "      <td>0.249459</td>\n",
       "      <td>-0.379813</td>\n",
       "      <td>-0.707956</td>\n",
       "      <td>-0.769724</td>\n",
       "      <td>0.203981</td>\n",
       "      <td>-0.746493</td>\n",
       "      <td>0.997905</td>\n",
       "      <td>1.000000</td>\n",
       "      <td>0.998097</td>\n",
       "      <td>0.994003</td>\n",
       "      <td>0.233707</td>\n",
       "      <td>-0.495693</td>\n",
       "      <td>-0.031071</td>\n",
       "      <td>-0.010239</td>\n",
       "      <td>-0.038005</td>\n",
       "      <td>-0.708237</td>\n",
       "    </tr>\n",
       "    <tr>\n",
       "      <th>dist3</th>\n",
       "      <td>0.246650</td>\n",
       "      <td>-0.380069</td>\n",
       "      <td>-0.707566</td>\n",
       "      <td>-0.769157</td>\n",
       "      <td>0.201907</td>\n",
       "      <td>-0.747021</td>\n",
       "      <td>0.997735</td>\n",
       "      <td>0.998097</td>\n",
       "      <td>1.000000</td>\n",
       "      <td>0.994126</td>\n",
       "      <td>0.233588</td>\n",
       "      <td>-0.494290</td>\n",
       "      <td>-0.028315</td>\n",
       "      <td>-0.010077</td>\n",
       "      <td>-0.041470</td>\n",
       "      <td>-0.709346</td>\n",
       "    </tr>\n",
       "    <tr>\n",
       "      <th>dist4</th>\n",
       "      <td>0.248200</td>\n",
       "      <td>-0.376462</td>\n",
       "      <td>-0.705819</td>\n",
       "      <td>-0.764873</td>\n",
       "      <td>0.205397</td>\n",
       "      <td>-0.746707</td>\n",
       "      <td>0.994073</td>\n",
       "      <td>0.994003</td>\n",
       "      <td>0.994126</td>\n",
       "      <td>1.000000</td>\n",
       "      <td>0.228256</td>\n",
       "      <td>-0.496084</td>\n",
       "      <td>-0.021534</td>\n",
       "      <td>-0.005850</td>\n",
       "      <td>-0.032542</td>\n",
       "      <td>-0.703508</td>\n",
       "    </tr>\n",
       "    <tr>\n",
       "      <th>teachers</th>\n",
       "      <td>0.505655</td>\n",
       "      <td>-0.289946</td>\n",
       "      <td>-0.383248</td>\n",
       "      <td>-0.188933</td>\n",
       "      <td>0.355501</td>\n",
       "      <td>-0.261515</td>\n",
       "      <td>0.232834</td>\n",
       "      <td>0.233707</td>\n",
       "      <td>0.233588</td>\n",
       "      <td>0.228256</td>\n",
       "      <td>1.000000</td>\n",
       "      <td>-0.374044</td>\n",
       "      <td>-0.008056</td>\n",
       "      <td>-0.023343</td>\n",
       "      <td>-0.045836</td>\n",
       "      <td>-0.187004</td>\n",
       "    </tr>\n",
       "    <tr>\n",
       "      <th>poor_prop</th>\n",
       "      <td>-0.740836</td>\n",
       "      <td>0.455621</td>\n",
       "      <td>0.603800</td>\n",
       "      <td>0.590879</td>\n",
       "      <td>-0.613808</td>\n",
       "      <td>0.602339</td>\n",
       "      <td>-0.498823</td>\n",
       "      <td>-0.495693</td>\n",
       "      <td>-0.494290</td>\n",
       "      <td>-0.496084</td>\n",
       "      <td>-0.374044</td>\n",
       "      <td>1.000000</td>\n",
       "      <td>-0.066008</td>\n",
       "      <td>0.003337</td>\n",
       "      <td>0.061581</td>\n",
       "      <td>0.552310</td>\n",
       "    </tr>\n",
       "    <tr>\n",
       "      <th>n_hos_beds</th>\n",
       "      <td>0.108880</td>\n",
       "      <td>0.017371</td>\n",
       "      <td>0.005799</td>\n",
       "      <td>-0.049553</td>\n",
       "      <td>0.032009</td>\n",
       "      <td>-0.021012</td>\n",
       "      <td>-0.030365</td>\n",
       "      <td>-0.031071</td>\n",
       "      <td>-0.028315</td>\n",
       "      <td>-0.021534</td>\n",
       "      <td>-0.008056</td>\n",
       "      <td>-0.066008</td>\n",
       "      <td>1.000000</td>\n",
       "      <td>-0.005455</td>\n",
       "      <td>0.058628</td>\n",
       "      <td>-0.071272</td>\n",
       "    </tr>\n",
       "    <tr>\n",
       "      <th>n_hot_rooms</th>\n",
       "      <td>0.023122</td>\n",
       "      <td>0.013518</td>\n",
       "      <td>-0.000839</td>\n",
       "      <td>-0.004882</td>\n",
       "      <td>0.030674</td>\n",
       "      <td>0.009380</td>\n",
       "      <td>-0.014463</td>\n",
       "      <td>-0.010239</td>\n",
       "      <td>-0.010077</td>\n",
       "      <td>-0.005850</td>\n",
       "      <td>-0.023343</td>\n",
       "      <td>0.003337</td>\n",
       "      <td>-0.005455</td>\n",
       "      <td>1.000000</td>\n",
       "      <td>-0.004840</td>\n",
       "      <td>0.006262</td>\n",
       "    </tr>\n",
       "    <tr>\n",
       "      <th>rainfall</th>\n",
       "      <td>-0.047426</td>\n",
       "      <td>0.059204</td>\n",
       "      <td>0.055810</td>\n",
       "      <td>0.092104</td>\n",
       "      <td>-0.064694</td>\n",
       "      <td>0.075198</td>\n",
       "      <td>-0.036794</td>\n",
       "      <td>-0.038005</td>\n",
       "      <td>-0.041470</td>\n",
       "      <td>-0.032542</td>\n",
       "      <td>-0.045836</td>\n",
       "      <td>0.061581</td>\n",
       "      <td>0.058628</td>\n",
       "      <td>-0.004840</td>\n",
       "      <td>1.000000</td>\n",
       "      <td>0.078641</td>\n",
       "    </tr>\n",
       "    <tr>\n",
       "      <th>parks</th>\n",
       "      <td>-0.391574</td>\n",
       "      <td>0.383235</td>\n",
       "      <td>0.707635</td>\n",
       "      <td>0.915544</td>\n",
       "      <td>-0.282817</td>\n",
       "      <td>0.673850</td>\n",
       "      <td>-0.706319</td>\n",
       "      <td>-0.708237</td>\n",
       "      <td>-0.709346</td>\n",
       "      <td>-0.703508</td>\n",
       "      <td>-0.187004</td>\n",
       "      <td>0.552310</td>\n",
       "      <td>-0.071272</td>\n",
       "      <td>0.006262</td>\n",
       "      <td>0.078641</td>\n",
       "      <td>1.000000</td>\n",
       "    </tr>\n",
       "  </tbody>\n",
       "</table>\n",
       "</div>"
      ],
      "text/plain": [
       "                price  crime_rate  resid_area  air_qual  room_num       age   \n",
       "price        1.000000   -0.389582   -0.484754 -0.429300  0.696304 -0.377999  \\\n",
       "crime_rate  -0.389582    1.000000    0.406583  0.420972 -0.219247  0.352734   \n",
       "resid_area  -0.484754    0.406583    1.000000  0.763651 -0.391676  0.644779   \n",
       "air_qual    -0.429300    0.420972    0.763651  1.000000 -0.302188  0.731470   \n",
       "room_num     0.696304   -0.219247   -0.391676 -0.302188  1.000000 -0.240265   \n",
       "age         -0.377999    0.352734    0.644779  0.731470 -0.240265  1.000000   \n",
       "dist1        0.251355   -0.380050   -0.706481 -0.768589  0.208464 -0.746904   \n",
       "dist2        0.249459   -0.379813   -0.707956 -0.769724  0.203981 -0.746493   \n",
       "dist3        0.246650   -0.380069   -0.707566 -0.769157  0.201907 -0.747021   \n",
       "dist4        0.248200   -0.376462   -0.705819 -0.764873  0.205397 -0.746707   \n",
       "teachers     0.505655   -0.289946   -0.383248 -0.188933  0.355501 -0.261515   \n",
       "poor_prop   -0.740836    0.455621    0.603800  0.590879 -0.613808  0.602339   \n",
       "n_hos_beds   0.108880    0.017371    0.005799 -0.049553  0.032009 -0.021012   \n",
       "n_hot_rooms  0.023122    0.013518   -0.000839 -0.004882  0.030674  0.009380   \n",
       "rainfall    -0.047426    0.059204    0.055810  0.092104 -0.064694  0.075198   \n",
       "parks       -0.391574    0.383235    0.707635  0.915544 -0.282817  0.673850   \n",
       "\n",
       "                dist1     dist2     dist3     dist4  teachers  poor_prop   \n",
       "price        0.251355  0.249459  0.246650  0.248200  0.505655  -0.740836  \\\n",
       "crime_rate  -0.380050 -0.379813 -0.380069 -0.376462 -0.289946   0.455621   \n",
       "resid_area  -0.706481 -0.707956 -0.707566 -0.705819 -0.383248   0.603800   \n",
       "air_qual    -0.768589 -0.769724 -0.769157 -0.764873 -0.188933   0.590879   \n",
       "room_num     0.208464  0.203981  0.201907  0.205397  0.355501  -0.613808   \n",
       "age         -0.746904 -0.746493 -0.747021 -0.746707 -0.261515   0.602339   \n",
       "dist1        1.000000  0.997905  0.997735  0.994073  0.232834  -0.498823   \n",
       "dist2        0.997905  1.000000  0.998097  0.994003  0.233707  -0.495693   \n",
       "dist3        0.997735  0.998097  1.000000  0.994126  0.233588  -0.494290   \n",
       "dist4        0.994073  0.994003  0.994126  1.000000  0.228256  -0.496084   \n",
       "teachers     0.232834  0.233707  0.233588  0.228256  1.000000  -0.374044   \n",
       "poor_prop   -0.498823 -0.495693 -0.494290 -0.496084 -0.374044   1.000000   \n",
       "n_hos_beds  -0.030365 -0.031071 -0.028315 -0.021534 -0.008056  -0.066008   \n",
       "n_hot_rooms -0.014463 -0.010239 -0.010077 -0.005850 -0.023343   0.003337   \n",
       "rainfall    -0.036794 -0.038005 -0.041470 -0.032542 -0.045836   0.061581   \n",
       "parks       -0.706319 -0.708237 -0.709346 -0.703508 -0.187004   0.552310   \n",
       "\n",
       "             n_hos_beds  n_hot_rooms  rainfall     parks  \n",
       "price          0.108880     0.023122 -0.047426 -0.391574  \n",
       "crime_rate     0.017371     0.013518  0.059204  0.383235  \n",
       "resid_area     0.005799    -0.000839  0.055810  0.707635  \n",
       "air_qual      -0.049553    -0.004882  0.092104  0.915544  \n",
       "room_num       0.032009     0.030674 -0.064694 -0.282817  \n",
       "age           -0.021012     0.009380  0.075198  0.673850  \n",
       "dist1         -0.030365    -0.014463 -0.036794 -0.706319  \n",
       "dist2         -0.031071    -0.010239 -0.038005 -0.708237  \n",
       "dist3         -0.028315    -0.010077 -0.041470 -0.709346  \n",
       "dist4         -0.021534    -0.005850 -0.032542 -0.703508  \n",
       "teachers      -0.008056    -0.023343 -0.045836 -0.187004  \n",
       "poor_prop     -0.066008     0.003337  0.061581  0.552310  \n",
       "n_hos_beds     1.000000    -0.005455  0.058628 -0.071272  \n",
       "n_hot_rooms   -0.005455     1.000000 -0.004840  0.006262  \n",
       "rainfall       0.058628    -0.004840  1.000000  0.078641  \n",
       "parks         -0.071272     0.006262  0.078641  1.000000  "
      ]
     },
     "execution_count": 8,
     "metadata": {},
     "output_type": "execute_result"
    }
   ],
   "source": [
    "df.corr()"
   ]
  },
  {
   "cell_type": "code",
   "execution_count": 9,
   "id": "7449283f",
   "metadata": {},
   "outputs": [],
   "source": [
    "x = sm.add_constant(df['room_num'])\n",
    "lm = sm.OLS(df['price'],x).fit()"
   ]
  },
  {
   "cell_type": "code",
   "execution_count": 10,
   "id": "98517f86",
   "metadata": {},
   "outputs": [
    {
     "data": {
      "text/html": [
       "<table class=\"simpletable\">\n",
       "<caption>OLS Regression Results</caption>\n",
       "<tr>\n",
       "  <th>Dep. Variable:</th>          <td>price</td>      <th>  R-squared:         </th> <td>   0.485</td>\n",
       "</tr>\n",
       "<tr>\n",
       "  <th>Model:</th>                   <td>OLS</td>       <th>  Adj. R-squared:    </th> <td>   0.484</td>\n",
       "</tr>\n",
       "<tr>\n",
       "  <th>Method:</th>             <td>Least Squares</td>  <th>  F-statistic:       </th> <td>   474.3</td>\n",
       "</tr>\n",
       "<tr>\n",
       "  <th>Date:</th>             <td>Mon, 17 Apr 2023</td> <th>  Prob (F-statistic):</th> <td>1.31e-74</td>\n",
       "</tr>\n",
       "<tr>\n",
       "  <th>Time:</th>                 <td>14:07:21</td>     <th>  Log-Likelihood:    </th> <td> -1671.6</td>\n",
       "</tr>\n",
       "<tr>\n",
       "  <th>No. Observations:</th>      <td>   506</td>      <th>  AIC:               </th> <td>   3347.</td>\n",
       "</tr>\n",
       "<tr>\n",
       "  <th>Df Residuals:</th>          <td>   504</td>      <th>  BIC:               </th> <td>   3356.</td>\n",
       "</tr>\n",
       "<tr>\n",
       "  <th>Df Model:</th>              <td>     1</td>      <th>                     </th>     <td> </td>   \n",
       "</tr>\n",
       "<tr>\n",
       "  <th>Covariance Type:</th>      <td>nonrobust</td>    <th>                     </th>     <td> </td>   \n",
       "</tr>\n",
       "</table>\n",
       "<table class=\"simpletable\">\n",
       "<tr>\n",
       "      <td></td>        <th>coef</th>     <th>std err</th>      <th>t</th>      <th>P>|t|</th>  <th>[0.025</th>    <th>0.975]</th>  \n",
       "</tr>\n",
       "<tr>\n",
       "  <th>const</th>    <td>  -34.6592</td> <td>    2.642</td> <td>  -13.118</td> <td> 0.000</td> <td>  -39.850</td> <td>  -29.468</td>\n",
       "</tr>\n",
       "<tr>\n",
       "  <th>room_num</th> <td>    9.0997</td> <td>    0.418</td> <td>   21.779</td> <td> 0.000</td> <td>    8.279</td> <td>    9.921</td>\n",
       "</tr>\n",
       "</table>\n",
       "<table class=\"simpletable\">\n",
       "<tr>\n",
       "  <th>Omnibus:</th>       <td>103.753</td> <th>  Durbin-Watson:     </th> <td>   0.681</td> \n",
       "</tr>\n",
       "<tr>\n",
       "  <th>Prob(Omnibus):</th> <td> 0.000</td>  <th>  Jarque-Bera (JB):  </th> <td> 633.429</td> \n",
       "</tr>\n",
       "<tr>\n",
       "  <th>Skew:</th>          <td> 0.729</td>  <th>  Prob(JB):          </th> <td>2.84e-138</td>\n",
       "</tr>\n",
       "<tr>\n",
       "  <th>Kurtosis:</th>      <td> 8.284</td>  <th>  Cond. No.          </th> <td>    58.4</td> \n",
       "</tr>\n",
       "</table><br/><br/>Notes:<br/>[1] Standard Errors assume that the covariance matrix of the errors is correctly specified."
      ],
      "text/plain": [
       "<class 'statsmodels.iolib.summary.Summary'>\n",
       "\"\"\"\n",
       "                            OLS Regression Results                            \n",
       "==============================================================================\n",
       "Dep. Variable:                  price   R-squared:                       0.485\n",
       "Model:                            OLS   Adj. R-squared:                  0.484\n",
       "Method:                 Least Squares   F-statistic:                     474.3\n",
       "Date:                Mon, 17 Apr 2023   Prob (F-statistic):           1.31e-74\n",
       "Time:                        14:07:21   Log-Likelihood:                -1671.6\n",
       "No. Observations:                 506   AIC:                             3347.\n",
       "Df Residuals:                     504   BIC:                             3356.\n",
       "Df Model:                           1                                         \n",
       "Covariance Type:            nonrobust                                         \n",
       "==============================================================================\n",
       "                 coef    std err          t      P>|t|      [0.025      0.975]\n",
       "------------------------------------------------------------------------------\n",
       "const        -34.6592      2.642    -13.118      0.000     -39.850     -29.468\n",
       "room_num       9.0997      0.418     21.779      0.000       8.279       9.921\n",
       "==============================================================================\n",
       "Omnibus:                      103.753   Durbin-Watson:                   0.681\n",
       "Prob(Omnibus):                  0.000   Jarque-Bera (JB):              633.429\n",
       "Skew:                           0.729   Prob(JB):                    2.84e-138\n",
       "Kurtosis:                       8.284   Cond. No.                         58.4\n",
       "==============================================================================\n",
       "\n",
       "Notes:\n",
       "[1] Standard Errors assume that the covariance matrix of the errors is correctly specified.\n",
       "\"\"\""
      ]
     },
     "execution_count": 10,
     "metadata": {},
     "output_type": "execute_result"
    }
   ],
   "source": [
    "lm.summary()"
   ]
  },
  {
   "cell_type": "code",
   "execution_count": 11,
   "id": "593c3ebf",
   "metadata": {},
   "outputs": [],
   "source": [
    "from sklearn.linear_model import LinearRegression"
   ]
  },
  {
   "cell_type": "code",
   "execution_count": 12,
   "id": "f98f069c",
   "metadata": {},
   "outputs": [
    {
     "data": {
      "text/html": [
       "<style>#sk-container-id-1 {color: black;background-color: white;}#sk-container-id-1 pre{padding: 0;}#sk-container-id-1 div.sk-toggleable {background-color: white;}#sk-container-id-1 label.sk-toggleable__label {cursor: pointer;display: block;width: 100%;margin-bottom: 0;padding: 0.3em;box-sizing: border-box;text-align: center;}#sk-container-id-1 label.sk-toggleable__label-arrow:before {content: \"▸\";float: left;margin-right: 0.25em;color: #696969;}#sk-container-id-1 label.sk-toggleable__label-arrow:hover:before {color: black;}#sk-container-id-1 div.sk-estimator:hover label.sk-toggleable__label-arrow:before {color: black;}#sk-container-id-1 div.sk-toggleable__content {max-height: 0;max-width: 0;overflow: hidden;text-align: left;background-color: #f0f8ff;}#sk-container-id-1 div.sk-toggleable__content pre {margin: 0.2em;color: black;border-radius: 0.25em;background-color: #f0f8ff;}#sk-container-id-1 input.sk-toggleable__control:checked~div.sk-toggleable__content {max-height: 200px;max-width: 100%;overflow: auto;}#sk-container-id-1 input.sk-toggleable__control:checked~label.sk-toggleable__label-arrow:before {content: \"▾\";}#sk-container-id-1 div.sk-estimator input.sk-toggleable__control:checked~label.sk-toggleable__label {background-color: #d4ebff;}#sk-container-id-1 div.sk-label input.sk-toggleable__control:checked~label.sk-toggleable__label {background-color: #d4ebff;}#sk-container-id-1 input.sk-hidden--visually {border: 0;clip: rect(1px 1px 1px 1px);clip: rect(1px, 1px, 1px, 1px);height: 1px;margin: -1px;overflow: hidden;padding: 0;position: absolute;width: 1px;}#sk-container-id-1 div.sk-estimator {font-family: monospace;background-color: #f0f8ff;border: 1px dotted black;border-radius: 0.25em;box-sizing: border-box;margin-bottom: 0.5em;}#sk-container-id-1 div.sk-estimator:hover {background-color: #d4ebff;}#sk-container-id-1 div.sk-parallel-item::after {content: \"\";width: 100%;border-bottom: 1px solid gray;flex-grow: 1;}#sk-container-id-1 div.sk-label:hover label.sk-toggleable__label {background-color: #d4ebff;}#sk-container-id-1 div.sk-serial::before {content: \"\";position: absolute;border-left: 1px solid gray;box-sizing: border-box;top: 0;bottom: 0;left: 50%;z-index: 0;}#sk-container-id-1 div.sk-serial {display: flex;flex-direction: column;align-items: center;background-color: white;padding-right: 0.2em;padding-left: 0.2em;position: relative;}#sk-container-id-1 div.sk-item {position: relative;z-index: 1;}#sk-container-id-1 div.sk-parallel {display: flex;align-items: stretch;justify-content: center;background-color: white;position: relative;}#sk-container-id-1 div.sk-item::before, #sk-container-id-1 div.sk-parallel-item::before {content: \"\";position: absolute;border-left: 1px solid gray;box-sizing: border-box;top: 0;bottom: 0;left: 50%;z-index: -1;}#sk-container-id-1 div.sk-parallel-item {display: flex;flex-direction: column;z-index: 1;position: relative;background-color: white;}#sk-container-id-1 div.sk-parallel-item:first-child::after {align-self: flex-end;width: 50%;}#sk-container-id-1 div.sk-parallel-item:last-child::after {align-self: flex-start;width: 50%;}#sk-container-id-1 div.sk-parallel-item:only-child::after {width: 0;}#sk-container-id-1 div.sk-dashed-wrapped {border: 1px dashed gray;margin: 0 0.4em 0.5em 0.4em;box-sizing: border-box;padding-bottom: 0.4em;background-color: white;}#sk-container-id-1 div.sk-label label {font-family: monospace;font-weight: bold;display: inline-block;line-height: 1.2em;}#sk-container-id-1 div.sk-label-container {text-align: center;}#sk-container-id-1 div.sk-container {/* jupyter's `normalize.less` sets `[hidden] { display: none; }` but bootstrap.min.css set `[hidden] { display: none !important; }` so we also need the `!important` here to be able to override the default hidden behavior on the sphinx rendered scikit-learn.org. See: https://github.com/scikit-learn/scikit-learn/issues/21755 */display: inline-block !important;position: relative;}#sk-container-id-1 div.sk-text-repr-fallback {display: none;}</style><div id=\"sk-container-id-1\" class=\"sk-top-container\"><div class=\"sk-text-repr-fallback\"><pre>LinearRegression()</pre><b>In a Jupyter environment, please rerun this cell to show the HTML representation or trust the notebook. <br />On GitHub, the HTML representation is unable to render, please try loading this page with nbviewer.org.</b></div><div class=\"sk-container\" hidden><div class=\"sk-item\"><div class=\"sk-estimator sk-toggleable\"><input class=\"sk-toggleable__control sk-hidden--visually\" id=\"sk-estimator-id-1\" type=\"checkbox\" checked><label for=\"sk-estimator-id-1\" class=\"sk-toggleable__label sk-toggleable__label-arrow\">LinearRegression</label><div class=\"sk-toggleable__content\"><pre>LinearRegression()</pre></div></div></div></div></div>"
      ],
      "text/plain": [
       "LinearRegression()"
      ]
     },
     "execution_count": 12,
     "metadata": {},
     "output_type": "execute_result"
    }
   ],
   "source": [
    "y_axis = df['price']\n",
    "x_axis = df[['room_num']]\n",
    "lm2 = LinearRegression()\n",
    "lm2.fit(x_axis,y_axis)"
   ]
  },
  {
   "cell_type": "code",
   "execution_count": 13,
   "id": "424b5648",
   "metadata": {},
   "outputs": [
    {
     "name": "stdout",
     "output_type": "stream",
     "text": [
      "-34.6592431230972 [9.09966966]\n"
     ]
    }
   ],
   "source": [
    "print(lm2.intercept_,lm2.coef_)"
   ]
  },
  {
   "cell_type": "code",
   "execution_count": 14,
   "id": "df951804",
   "metadata": {},
   "outputs": [
    {
     "data": {
      "text/plain": [
       "array([25.17108491, 23.76973578, 30.72188341, 29.02024518, 30.37609596,\n",
       "       23.85163281, 20.04797089, 21.50391804, 16.58099675, 19.97517353,\n",
       "       23.36935032, 20.02067188, 18.92871152, 19.4746917 , 20.81234314,\n",
       "       18.42822969, 19.34729633, 19.84777816, 14.98855456, 17.45456504,\n",
       "       16.0259169 , 19.62028642, 21.23092795, 18.23713663, 19.24719996,\n",
       "       16.28980732, 18.23713663, 20.36645933, 24.44311134, 26.07195221,\n",
       "       17.32716966, 20.59395107, 19.48379137, 17.21797363, 20.81234314,\n",
       "       19.32909699, 18.49192738, 18.57382441, 19.62938609, 25.3530783 ,\n",
       "       29.25683659, 26.9455205 , 21.47661903, 21.85880515, 20.56665206,\n",
       "       17.0450799 , 17.99144555, 20.21176495, 14.46987339, 16.31710633,\n",
       "       19.60208708, 20.98523687, 24.58870605, 19.92057552, 18.91961185,\n",
       "       31.30426226, 23.42394834, 27.3641053 , 21.25822696, 19.27449897,\n",
       "       17.58196041, 19.62938609, 24.08822422, 26.87272314, 29.98481016,\n",
       "       22.57767906, 18.00054522, 18.82861516, 16.24430897, 18.89231284,\n",
       "       23.7333371 , 19.58388774, 20.53025338, 22.16819392, 22.42298467,\n",
       "       22.54128038, 22.47758269, 21.21272861, 22.04989822, 18.79221648,\n",
       "       26.5542347 , 25.57147038, 22.68687509, 21.45841969, 23.47854635,\n",
       "       25.67156674, 20.0752699 , 21.03983488, 29.10214221, 29.75731842,\n",
       "       23.7333371 , 23.62414107, 23.96082885, 21.85880515, 22.2045926 ,\n",
       "       25.62606839, 21.42202101, 38.76599139, 36.50017364, 32.8239071 ,\n",
       "       26.5542347 , 27.04561686, 23.62414107, 21.1854296 , 21.45841969,\n",
       "       18.58292408, 18.44642903, 21.0944329 , 24.25201828, 22.02259921,\n",
       "       21.71321044, 26.44503866, 19.14710359, 20.77594446, 22.25009095,\n",
       "       19.28359864, 21.54031672, 20.12986792, 18.77401714, 17.49096372,\n",
       "       18.7558178 , 19.97517353, 19.58388774, 18.62842242, 18.83771483,\n",
       "       19.81137948, 16.4172027 , 17.14517627, 23.86073248, 16.63559477,\n",
       "       24.10642356, 22.90526717, 23.32385197, 18.31903366, 17.72755513,\n",
       "       22.98716419, 19.41099401, 24.07002488, 18.63752209, 21.31282497,\n",
       "       21.52211738, 11.01199892, 14.50627207, 15.09775059,  9.95643723,\n",
       "       21.12173191, 16.55369774, 10.16572964, 12.53164375, 16.27160798,\n",
       "       21.04893455, 14.51537174, 10.94830123, 17.29077098, 21.11263224,\n",
       "       21.32192464, 13.31421534, 28.51976335, 20.53935305, 24.57960638,\n",
       "       22.21369227, 33.48818298, 36.33637959, 41.55049031, 18.61022308,\n",
       "       20.85784149, 37.49203764, 18.81951549, 22.84156948, 23.59684206,\n",
       "       18.80131615, 18.8468145 , 16.04411624, 23.72423744, 18.65572143,\n",
       "       24.90719449, 20.12076825, 22.8051708 , 27.76449077, 28.85645113,\n",
       "       35.99969181, 21.24912729, 30.44889332, 25.06188888, 16.33530567,\n",
       "       21.33102431, 36.60027001, 27.05471653, 24.99819119, 30.72188341,\n",
       "       28.5925607 , 26.66343074, 30.65818572, 27.21851059, 25.43497533,\n",
       "       37.00065547, 31.65004971, 30.01210917, 31.53175401, 28.81095278,\n",
       "       30.26689992, 21.41292134, 34.58924301, 36.80046274, 38.44750295,\n",
       "       18.94691086, 22.90526717, 17.96414654, 20.52115371, 13.96939156,\n",
       "       19.57478807, 14.51537174, 18.18253861, 23.35115098, 14.58816909,\n",
       "       21.59491473, 18.91961185, 25.78076278, 19.49289104, 23.33295164,\n",
       "       28.5925607 , 21.43112068, 27.93738449, 25.56237071, 40.55862631,\n",
       "       44.73537469, 38.50210097, 30.52169067, 35.28081791, 24.96179251,\n",
       "       19.76588113, 32.78750842, 41.20470286, 40.38573259, 26.54513503,\n",
       "       20.72134645, 25.68066641, 32.29612626, 24.31571596, 25.45317467,\n",
       "       28.10117854, 20.80324347, 23.19645659, 23.51494503, 16.2352093 ,\n",
       "       16.34440534, 20.92153918, 21.9953002 , 23.87893182, 26.47233767,\n",
       "       24.37031398, 23.92443017, 28.64715872, 40.49492862, 20.92153918,\n",
       "       18.81041582, 33.16969455, 44.54428162, 32.06863452, 27.60069671,\n",
       "       30.88567746, 33.77027274, 41.75978271, 32.0140365 , 30.91297647,\n",
       "       15.9349202 , 29.16583989, 40.84071607, 33.31528926, 19.21080128,\n",
       "       18.62842242, 22.12269557, 24.83439713, 35.32631626, 26.83632446,\n",
       "       27.70989275, 31.46805632, 27.455102  , 24.32481563, 27.32770662,\n",
       "       36.50017364, 28.74725509, 34.90773145, 37.43743962, 29.83921545,\n",
       "       24.06092521, 22.03169888, 21.84060581, 22.8051708 , 25.08008821,\n",
       "       27.77359044, 30.38519563, 25.67156674, 21.0944329 , 20.02067188,\n",
       "       26.10835089, 24.9344935 , 18.02784423, 23.07816089, 29.41153097,\n",
       "       27.86458713, 25.30757996, 24.44311134, 28.87465046, 31.18596656,\n",
       "       25.54417137, 32.86030578, 27.6643944 , 25.71706509, 19.6839841 ,\n",
       "       10.59341411, 21.04893455, 20.14806726, 22.35928699, 25.09828755,\n",
       "       17.2543723 , 19.15620326, 17.95504687, 23.41484867, 20.96703753,\n",
       "       23.81523413, 23.36025065, 20.31186131, 17.28167131, 23.71513777,\n",
       "       23.86073248, 22.77787179, 20.69404744, 18.73761846, 22.96896485,\n",
       "       21.24912729, 17.26347197, 20.22086461, 22.81427047, 22.75967245,\n",
       "       20.27546263, 18.74671813, 18.98330954, 20.47565537, 19.80227981,\n",
       "       19.64758543, 31.23146491, 24.85259647, 26.27214494, 27.89188614,\n",
       "       20.06617023, 19.01060855, 24.6342044 , 25.71706509, 28.48336467,\n",
       "       24.39761299, 25.20748359, 18.88321317, 26.56333437, 16.87218618,\n",
       "       19.356396  , 21.86790482, 23.53314437, 21.0944329 , 20.95793786,\n",
       "       23.56044338, 22.22279194, 14.13318561, 18.14613993, 45.23585652,\n",
       "       -2.25531945, 10.50241741,  0.49278079, 10.5661151 , 26.15384924,\n",
       "       29.18403923, 21.9043035 , 18.80131615,  9.98373624,  2.99518994,\n",
       "       31.88664112, 25.84446047, 27.16391257, 23.39664933, 21.96800119,\n",
       "       28.74725509, 24.89809482, 15.71652813, 15.57093342,  5.08811397,\n",
       "       13.35971369,  7.67242015, 10.83910519,  9.74714483, 14.38797636,\n",
       "       17.32716966, 20.40285801, 11.1666933 , 21.6950111 , 18.91051218,\n",
       "       24.22471927, 23.62414107, 17.63655843, 14.96125555, 18.59202375,\n",
       "       19.82047915, 23.05996155, 23.6150414 , 14.0148899 , 15.67102978,\n",
       "       17.05417957,  2.99518994, 16.37170435, 16.45360137, 27.69169341,\n",
       "       17.72755513, 25.91725782,  7.45402808, 12.24955399,  6.46216408,\n",
       "       23.88803149, 27.05471653, 13.60540477, 19.54748906, 27.43690266,\n",
       "       23.67873909, 19.99337287, 16.73569113, 20.87604083, 15.98041855,\n",
       "       18.99240921, 18.4555287 , 21.77690813, 21.6950111 , 23.39664933,\n",
       "       23.1054599 , 27.51879968, 23.80613446, 23.90623083, 21.83150615,\n",
       "       25.66246707, 24.13372257, 21.32192464, 19.34729633, 16.54459807,\n",
       "       18.28263498, 23.63324074, 21.93160251, 24.35211464, 18.61022308,\n",
       "       24.11552323, 23.04176221, 22.22279194, 21.62221374, 23.7333371 ,\n",
       "       26.75442743, 25.89905848, 22.64137675, 32.6146147 , 26.56333437,\n",
       "       24.71610143, 19.72038278, 19.356396  , 22.67777542, 20.6758481 ,\n",
       "       26.31764329, 23.36025065, 22.82337014, 24.60690539, 21.84060581,\n",
       "       17.74575447, 19.50199071, 19.96607386, 19.2653993 , 17.32716966,\n",
       "       21.45841969, 22.02259921, 23.9153305 , 28.85645113, 14.72466414,\n",
       "       21.41292134, 24.34301497, 13.60540477, 21.62221374, 22.02259921,\n",
       "       22.14089491, 26.7635271 , 29.59352437, 17.77305348, 18.76491747,\n",
       "       22.77787179, 20.9761372 , 19.07430624, 14.97035522, 14.60636843,\n",
       "       11.68537447, 19.78408047, 19.78408047, 17.27257164, 19.2653993 ,\n",
       "       16.93588387, 14.38797636, 18.0642429 , 20.11166858, 16.01681723,\n",
       "       20.18446594, 25.33487897, 21.03073521, 28.82005245, 27.16391257,\n",
       "       20.21176495])"
      ]
     },
     "execution_count": 14,
     "metadata": {},
     "output_type": "execute_result"
    }
   ],
   "source": [
    "lm2.predict(x_axis)"
   ]
  },
  {
   "cell_type": "code",
   "execution_count": 15,
   "id": "43fd894f",
   "metadata": {},
   "outputs": [
    {
     "data": {
      "text/plain": [
       "<seaborn.axisgrid.JointGrid at 0x1b3e920efd0>"
      ]
     },
     "execution_count": 15,
     "metadata": {},
     "output_type": "execute_result"
    },
    {
     "data": {
      "image/png": "[encoded data removed]",
      "text/plain": [
       "<Figure size 600x600 with 3 Axes>"
      ]
     },
     "metadata": {},
     "output_type": "display_data"
    }
   ],
   "source": [
    "sns.jointplot(x=df['room_num'],y=df['price'],data=df,kind = 'reg')"
   ]
  },
  {
   "cell_type": "markdown",
   "id": "78a10bab",
   "metadata": {},
   "source": [
    "# Multiple Linear Regression"
   ]
  },
  {
   "cell_type": "code",
   "execution_count": 16,
   "id": "0013f585",
   "metadata": {},
   "outputs": [],
   "source": [
    "x_multi = df.drop(\"price\",axis=1);\n",
    "x_multi =x_multi.drop(\"n_hos_beds\",axis=1)\n",
    "y_multi = df['price'];"
   ]
  },
  {
   "cell_type": "code",
   "execution_count": 17,
   "id": "43ad3f94",
   "metadata": {},
   "outputs": [],
   "source": [
    "x_const = sm.add_constant(x_multi)"
   ]
  },
  {
   "cell_type": "code",
   "execution_count": 18,
   "id": "76017bcb",
   "metadata": {},
   "outputs": [],
   "source": [
    "lm_multi = sm.OLS(y_multi,x_const).fit() "
   ]
  },
  {
   "cell_type": "code",
   "execution_count": 19,
   "id": "129b9d46",
   "metadata": {},
   "outputs": [
    {
     "data": {
      "text/html": [
       "<table class=\"simpletable\">\n",
       "<caption>OLS Regression Results</caption>\n",
       "<tr>\n",
       "  <th>Dep. Variable:</th>          <td>price</td>      <th>  R-squared:         </th> <td>   0.718</td> \n",
       "</tr>\n",
       "<tr>\n",
       "  <th>Model:</th>                   <td>OLS</td>       <th>  Adj. R-squared:    </th> <td>   0.710</td> \n",
       "</tr>\n",
       "<tr>\n",
       "  <th>Method:</th>             <td>Least Squares</td>  <th>  F-statistic:       </th> <td>   89.11</td> \n",
       "</tr>\n",
       "<tr>\n",
       "  <th>Date:</th>             <td>Mon, 17 Apr 2023</td> <th>  Prob (F-statistic):</th> <td>7.20e-125</td>\n",
       "</tr>\n",
       "<tr>\n",
       "  <th>Time:</th>                 <td>14:07:32</td>     <th>  Log-Likelihood:    </th> <td> -1519.5</td> \n",
       "</tr>\n",
       "<tr>\n",
       "  <th>No. Observations:</th>      <td>   506</td>      <th>  AIC:               </th> <td>   3069.</td> \n",
       "</tr>\n",
       "<tr>\n",
       "  <th>Df Residuals:</th>          <td>   491</td>      <th>  BIC:               </th> <td>   3132.</td> \n",
       "</tr>\n",
       "<tr>\n",
       "  <th>Df Model:</th>              <td>    14</td>      <th>                     </th>     <td> </td>    \n",
       "</tr>\n",
       "<tr>\n",
       "  <th>Covariance Type:</th>      <td>nonrobust</td>    <th>                     </th>     <td> </td>    \n",
       "</tr>\n",
       "</table>\n",
       "<table class=\"simpletable\">\n",
       "<tr>\n",
       "       <td></td>          <th>coef</th>     <th>std err</th>      <th>t</th>      <th>P>|t|</th>  <th>[0.025</th>    <th>0.975]</th>  \n",
       "</tr>\n",
       "<tr>\n",
       "  <th>const</th>       <td>   -2.5293</td> <td>    4.966</td> <td>   -0.509</td> <td> 0.611</td> <td>  -12.286</td> <td>    7.227</td>\n",
       "</tr>\n",
       "<tr>\n",
       "  <th>crime_rate</th>  <td>   -0.0734</td> <td>    0.030</td> <td>   -2.440</td> <td> 0.015</td> <td>   -0.133</td> <td>   -0.014</td>\n",
       "</tr>\n",
       "<tr>\n",
       "  <th>resid_area</th>  <td>   -0.0459</td> <td>    0.057</td> <td>   -0.803</td> <td> 0.422</td> <td>   -0.158</td> <td>    0.066</td>\n",
       "</tr>\n",
       "<tr>\n",
       "  <th>air_qual</th>    <td>  -20.4018</td> <td>    5.681</td> <td>   -3.591</td> <td> 0.000</td> <td>  -31.564</td> <td>   -9.239</td>\n",
       "</tr>\n",
       "<tr>\n",
       "  <th>room_num</th>    <td>    4.1981</td> <td>    0.421</td> <td>    9.968</td> <td> 0.000</td> <td>    3.371</td> <td>    5.026</td>\n",
       "</tr>\n",
       "<tr>\n",
       "  <th>age</th>         <td>   -0.0046</td> <td>    0.014</td> <td>   -0.339</td> <td> 0.735</td> <td>   -0.031</td> <td>    0.022</td>\n",
       "</tr>\n",
       "<tr>\n",
       "  <th>dist1</th>       <td>   -0.2668</td> <td>    1.856</td> <td>   -0.144</td> <td> 0.886</td> <td>   -3.913</td> <td>    3.379</td>\n",
       "</tr>\n",
       "<tr>\n",
       "  <th>dist2</th>       <td>    0.9718</td> <td>    1.979</td> <td>    0.491</td> <td> 0.624</td> <td>   -2.917</td> <td>    4.860</td>\n",
       "</tr>\n",
       "<tr>\n",
       "  <th>dist3</th>       <td>   -1.8574</td> <td>    1.932</td> <td>   -0.962</td> <td> 0.337</td> <td>   -5.653</td> <td>    1.938</td>\n",
       "</tr>\n",
       "<tr>\n",
       "  <th>dist4</th>       <td>   -0.1320</td> <td>    1.035</td> <td>   -0.128</td> <td> 0.899</td> <td>   -2.165</td> <td>    1.901</td>\n",
       "</tr>\n",
       "<tr>\n",
       "  <th>teachers</th>    <td>    0.9673</td> <td>    0.119</td> <td>    8.122</td> <td> 0.000</td> <td>    0.733</td> <td>    1.201</td>\n",
       "</tr>\n",
       "<tr>\n",
       "  <th>poor_prop</th>   <td>   -0.5505</td> <td>    0.052</td> <td>  -10.574</td> <td> 0.000</td> <td>   -0.653</td> <td>   -0.448</td>\n",
       "</tr>\n",
       "<tr>\n",
       "  <th>n_hot_rooms</th> <td>    0.0288</td> <td>    0.042</td> <td>    0.680</td> <td> 0.497</td> <td>   -0.054</td> <td>    0.112</td>\n",
       "</tr>\n",
       "<tr>\n",
       "  <th>rainfall</th>    <td>    0.0173</td> <td>    0.018</td> <td>    0.972</td> <td> 0.331</td> <td>   -0.018</td> <td>    0.052</td>\n",
       "</tr>\n",
       "<tr>\n",
       "  <th>parks</th>       <td>   53.2322</td> <td>   51.854</td> <td>    1.027</td> <td> 0.305</td> <td>  -48.650</td> <td>  155.115</td>\n",
       "</tr>\n",
       "</table>\n",
       "<table class=\"simpletable\">\n",
       "<tr>\n",
       "  <th>Omnibus:</th>       <td>211.059</td> <th>  Durbin-Watson:     </th> <td>   0.953</td> \n",
       "</tr>\n",
       "<tr>\n",
       "  <th>Prob(Omnibus):</th> <td> 0.000</td>  <th>  Jarque-Bera (JB):  </th> <td>1111.971</td> \n",
       "</tr>\n",
       "<tr>\n",
       "  <th>Skew:</th>          <td> 1.773</td>  <th>  Prob(JB):          </th> <td>3.46e-242</td>\n",
       "</tr>\n",
       "<tr>\n",
       "  <th>Kurtosis:</th>      <td> 9.337</td>  <th>  Cond. No.          </th> <td>2.30e+04</td> \n",
       "</tr>\n",
       "</table><br/><br/>Notes:<br/>[1] Standard Errors assume that the covariance matrix of the errors is correctly specified.<br/>[2] The condition number is large, 2.3e+04. This might indicate that there are<br/>strong multicollinearity or other numerical problems."
      ],
      "text/plain": [
       "<class 'statsmodels.iolib.summary.Summary'>\n",
       "\"\"\"\n",
       "                            OLS Regression Results                            \n",
       "==============================================================================\n",
       "Dep. Variable:                  price   R-squared:                       0.718\n",
       "Model:                            OLS   Adj. R-squared:                  0.710\n",
       "Method:                 Least Squares   F-statistic:                     89.11\n",
       "Date:                Mon, 17 Apr 2023   Prob (F-statistic):          7.20e-125\n",
       "Time:                        14:07:32   Log-Likelihood:                -1519.5\n",
       "No. Observations:                 506   AIC:                             3069.\n",
       "Df Residuals:                     491   BIC:                             3132.\n",
       "Df Model:                          14                                         \n",
       "Covariance Type:            nonrobust                                         \n",
       "===============================================================================\n",
       "                  coef    std err          t      P>|t|      [0.025      0.975]\n",
       "-------------------------------------------------------------------------------\n",
       "const          -2.5293      4.966     -0.509      0.611     -12.286       7.227\n",
       "crime_rate     -0.0734      0.030     -2.440      0.015      -0.133      -0.014\n",
       "resid_area     -0.0459      0.057     -0.803      0.422      -0.158       0.066\n",
       "air_qual      -20.4018      5.681     -3.591      0.000     -31.564      -9.239\n",
       "room_num        4.1981      0.421      9.968      0.000       3.371       5.026\n",
       "age            -0.0046      0.014     -0.339      0.735      -0.031       0.022\n",
       "dist1          -0.2668      1.856     -0.144      0.886      -3.913       3.379\n",
       "dist2           0.9718      1.979      0.491      0.624      -2.917       4.860\n",
       "dist3          -1.8574      1.932     -0.962      0.337      -5.653       1.938\n",
       "dist4          -0.1320      1.035     -0.128      0.899      -2.165       1.901\n",
       "teachers        0.9673      0.119      8.122      0.000       0.733       1.201\n",
       "poor_prop      -0.5505      0.052    -10.574      0.000      -0.653      -0.448\n",
       "n_hot_rooms     0.0288      0.042      0.680      0.497      -0.054       0.112\n",
       "rainfall        0.0173      0.018      0.972      0.331      -0.018       0.052\n",
       "parks          53.2322     51.854      1.027      0.305     -48.650     155.115\n",
       "==============================================================================\n",
       "Omnibus:                      211.059   Durbin-Watson:                   0.953\n",
       "Prob(Omnibus):                  0.000   Jarque-Bera (JB):             1111.971\n",
       "Skew:                           1.773   Prob(JB):                    3.46e-242\n",
       "Kurtosis:                       9.337   Cond. No.                     2.30e+04\n",
       "==============================================================================\n",
       "\n",
       "Notes:\n",
       "[1] Standard Errors assume that the covariance matrix of the errors is correctly specified.\n",
       "[2] The condition number is large, 2.3e+04. This might indicate that there are\n",
       "strong multicollinearity or other numerical problems.\n",
       "\"\"\""
      ]
     },
     "execution_count": 19,
     "metadata": {},
     "output_type": "execute_result"
    }
   ],
   "source": [
    "lm_multi.summary()"
   ]
  },
  {
   "cell_type": "code",
   "execution_count": 74,
   "id": "d7c59b3a",
   "metadata": {},
   "outputs": [
    {
     "data": {
      "text/html": [
       "<div>\n",
       "<style scoped>\n",
       "    .dataframe tbody tr th:only-of-type {\n",
       "        vertical-align: middle;\n",
       "    }\n",
       "\n",
       "    .dataframe tbody tr th {\n",
       "        vertical-align: top;\n",
       "    }\n",
       "\n",
       "    .dataframe thead th {\n",
       "        text-align: right;\n",
       "    }\n",
       "</style>\n",
       "<table border=\"1\" class=\"dataframe\">\n",
       "  <thead>\n",
       "    <tr style=\"text-align: right;\">\n",
       "      <th></th>\n",
       "      <th>const</th>\n",
       "      <th>crime_rate</th>\n",
       "      <th>resid_area</th>\n",
       "      <th>air_qual</th>\n",
       "      <th>room_num</th>\n",
       "      <th>age</th>\n",
       "      <th>dist1</th>\n",
       "      <th>dist2</th>\n",
       "      <th>dist3</th>\n",
       "      <th>dist4</th>\n",
       "      <th>teachers</th>\n",
       "      <th>poor_prop</th>\n",
       "      <th>n_hot_rooms</th>\n",
       "      <th>rainfall</th>\n",
       "      <th>parks</th>\n",
       "    </tr>\n",
       "  </thead>\n",
       "  <tbody>\n",
       "    <tr>\n",
       "      <th>0</th>\n",
       "      <td>1.0</td>\n",
       "      <td>0.00632</td>\n",
       "      <td>32.31</td>\n",
       "      <td>0.538</td>\n",
       "      <td>6.575</td>\n",
       "      <td>65.2</td>\n",
       "      <td>4.35</td>\n",
       "      <td>3.81</td>\n",
       "      <td>4.18</td>\n",
       "      <td>4.01</td>\n",
       "      <td>24.7</td>\n",
       "      <td>4.98</td>\n",
       "      <td>11.1920</td>\n",
       "      <td>23</td>\n",
       "      <td>0.049347</td>\n",
       "    </tr>\n",
       "    <tr>\n",
       "      <th>1</th>\n",
       "      <td>1.0</td>\n",
       "      <td>0.02731</td>\n",
       "      <td>37.07</td>\n",
       "      <td>0.469</td>\n",
       "      <td>6.421</td>\n",
       "      <td>78.9</td>\n",
       "      <td>4.99</td>\n",
       "      <td>4.70</td>\n",
       "      <td>5.12</td>\n",
       "      <td>5.06</td>\n",
       "      <td>22.2</td>\n",
       "      <td>9.14</td>\n",
       "      <td>12.1728</td>\n",
       "      <td>42</td>\n",
       "      <td>0.046146</td>\n",
       "    </tr>\n",
       "    <tr>\n",
       "      <th>2</th>\n",
       "      <td>1.0</td>\n",
       "      <td>0.02729</td>\n",
       "      <td>37.07</td>\n",
       "      <td>0.469</td>\n",
       "      <td>7.185</td>\n",
       "      <td>61.1</td>\n",
       "      <td>5.03</td>\n",
       "      <td>4.86</td>\n",
       "      <td>5.01</td>\n",
       "      <td>4.97</td>\n",
       "      <td>22.2</td>\n",
       "      <td>4.03</td>\n",
       "      <td>101.1200</td>\n",
       "      <td>38</td>\n",
       "      <td>0.045764</td>\n",
       "    </tr>\n",
       "    <tr>\n",
       "      <th>3</th>\n",
       "      <td>1.0</td>\n",
       "      <td>0.03237</td>\n",
       "      <td>32.18</td>\n",
       "      <td>0.458</td>\n",
       "      <td>6.998</td>\n",
       "      <td>45.8</td>\n",
       "      <td>6.21</td>\n",
       "      <td>5.93</td>\n",
       "      <td>6.16</td>\n",
       "      <td>5.96</td>\n",
       "      <td>21.3</td>\n",
       "      <td>2.94</td>\n",
       "      <td>11.2672</td>\n",
       "      <td>45</td>\n",
       "      <td>0.047151</td>\n",
       "    </tr>\n",
       "    <tr>\n",
       "      <th>4</th>\n",
       "      <td>1.0</td>\n",
       "      <td>0.06905</td>\n",
       "      <td>32.18</td>\n",
       "      <td>0.458</td>\n",
       "      <td>7.147</td>\n",
       "      <td>54.2</td>\n",
       "      <td>6.16</td>\n",
       "      <td>5.86</td>\n",
       "      <td>6.37</td>\n",
       "      <td>5.86</td>\n",
       "      <td>21.3</td>\n",
       "      <td>5.33</td>\n",
       "      <td>11.2896</td>\n",
       "      <td>55</td>\n",
       "      <td>0.039474</td>\n",
       "    </tr>\n",
       "  </tbody>\n",
       "</table>\n",
       "</div>"
      ],
      "text/plain": [
       "   const  crime_rate  resid_area  air_qual  room_num   age  dist1  dist2   \n",
       "0    1.0     0.00632       32.31     0.538     6.575  65.2   4.35   3.81  \\\n",
       "1    1.0     0.02731       37.07     0.469     6.421  78.9   4.99   4.70   \n",
       "2    1.0     0.02729       37.07     0.469     7.185  61.1   5.03   4.86   \n",
       "3    1.0     0.03237       32.18     0.458     6.998  45.8   6.21   5.93   \n",
       "4    1.0     0.06905       32.18     0.458     7.147  54.2   6.16   5.86   \n",
       "\n",
       "   dist3  dist4  teachers  poor_prop  n_hot_rooms  rainfall     parks  \n",
       "0   4.18   4.01      24.7       4.98      11.1920        23  0.049347  \n",
       "1   5.12   5.06      22.2       9.14      12.1728        42  0.046146  \n",
       "2   5.01   4.97      22.2       4.03     101.1200        38  0.045764  \n",
       "3   6.16   5.96      21.3       2.94      11.2672        45  0.047151  \n",
       "4   6.37   5.86      21.3       5.33      11.2896        55  0.039474  "
      ]
     },
     "execution_count": 74,
     "metadata": {},
     "output_type": "execute_result"
    }
   ],
   "source": [
    "x_const.head()"
   ]
  },
  {
   "cell_type": "code",
   "execution_count": 9,
   "id": "40473cdb",
   "metadata": {},
   "outputs": [],
   "source": [
    "lm3 = LinearRegression()"
   ]
  },
  {
   "cell_type": "code",
   "execution_count": 10,
   "id": "bd5f3f56",
   "metadata": {},
   "outputs": [
    {
     "data": {
      "text/html": [
       "<style>#sk-container-id-1 {color: black;background-color: white;}#sk-container-id-1 pre{padding: 0;}#sk-container-id-1 div.sk-toggleable {background-color: white;}#sk-container-id-1 label.sk-toggleable__label {cursor: pointer;display: block;width: 100%;margin-bottom: 0;padding: 0.3em;box-sizing: border-box;text-align: center;}#sk-container-id-1 label.sk-toggleable__label-arrow:before {content: \"▸\";float: left;margin-right: 0.25em;color: #696969;}#sk-container-id-1 label.sk-toggleable__label-arrow:hover:before {color: black;}#sk-container-id-1 div.sk-estimator:hover label.sk-toggleable__label-arrow:before {color: black;}#sk-container-id-1 div.sk-toggleable__content {max-height: 0;max-width: 0;overflow: hidden;text-align: left;background-color: #f0f8ff;}#sk-container-id-1 div.sk-toggleable__content pre {margin: 0.2em;color: black;border-radius: 0.25em;background-color: #f0f8ff;}#sk-container-id-1 input.sk-toggleable__control:checked~div.sk-toggleable__content {max-height: 200px;max-width: 100%;overflow: auto;}#sk-container-id-1 input.sk-toggleable__control:checked~label.sk-toggleable__label-arrow:before {content: \"▾\";}#sk-container-id-1 div.sk-estimator input.sk-toggleable__control:checked~label.sk-toggleable__label {background-color: #d4ebff;}#sk-container-id-1 div.sk-label input.sk-toggleable__control:checked~label.sk-toggleable__label {background-color: #d4ebff;}#sk-container-id-1 input.sk-hidden--visually {border: 0;clip: rect(1px 1px 1px 1px);clip: rect(1px, 1px, 1px, 1px);height: 1px;margin: -1px;overflow: hidden;padding: 0;position: absolute;width: 1px;}#sk-container-id-1 div.sk-estimator {font-family: monospace;background-color: #f0f8ff;border: 1px dotted black;border-radius: 0.25em;box-sizing: border-box;margin-bottom: 0.5em;}#sk-container-id-1 div.sk-estimator:hover {background-color: #d4ebff;}#sk-container-id-1 div.sk-parallel-item::after {content: \"\";width: 100%;border-bottom: 1px solid gray;flex-grow: 1;}#sk-container-id-1 div.sk-label:hover label.sk-toggleable__label {background-color: #d4ebff;}#sk-container-id-1 div.sk-serial::before {content: \"\";position: absolute;border-left: 1px solid gray;box-sizing: border-box;top: 0;bottom: 0;left: 50%;z-index: 0;}#sk-container-id-1 div.sk-serial {display: flex;flex-direction: column;align-items: center;background-color: white;padding-right: 0.2em;padding-left: 0.2em;position: relative;}#sk-container-id-1 div.sk-item {position: relative;z-index: 1;}#sk-container-id-1 div.sk-parallel {display: flex;align-items: stretch;justify-content: center;background-color: white;position: relative;}#sk-container-id-1 div.sk-item::before, #sk-container-id-1 div.sk-parallel-item::before {content: \"\";position: absolute;border-left: 1px solid gray;box-sizing: border-box;top: 0;bottom: 0;left: 50%;z-index: -1;}#sk-container-id-1 div.sk-parallel-item {display: flex;flex-direction: column;z-index: 1;position: relative;background-color: white;}#sk-container-id-1 div.sk-parallel-item:first-child::after {align-self: flex-end;width: 50%;}#sk-container-id-1 div.sk-parallel-item:last-child::after {align-self: flex-start;width: 50%;}#sk-container-id-1 div.sk-parallel-item:only-child::after {width: 0;}#sk-container-id-1 div.sk-dashed-wrapped {border: 1px dashed gray;margin: 0 0.4em 0.5em 0.4em;box-sizing: border-box;padding-bottom: 0.4em;background-color: white;}#sk-container-id-1 div.sk-label label {font-family: monospace;font-weight: bold;display: inline-block;line-height: 1.2em;}#sk-container-id-1 div.sk-label-container {text-align: center;}#sk-container-id-1 div.sk-container {/* jupyter's `normalize.less` sets `[hidden] { display: none; }` but bootstrap.min.css set `[hidden] { display: none !important; }` so we also need the `!important` here to be able to override the default hidden behavior on the sphinx rendered scikit-learn.org. See: https://github.com/scikit-learn/scikit-learn/issues/21755 */display: inline-block !important;position: relative;}#sk-container-id-1 div.sk-text-repr-fallback {display: none;}</style><div id=\"sk-container-id-1\" class=\"sk-top-container\"><div class=\"sk-text-repr-fallback\"><pre>LinearRegression()</pre><b>In a Jupyter environment, please rerun this cell to show the HTML representation or trust the notebook. <br />On GitHub, the HTML representation is unable to render, please try loading this page with nbviewer.org.</b></div><div class=\"sk-container\" hidden><div class=\"sk-item\"><div class=\"sk-estimator sk-toggleable\"><input class=\"sk-toggleable__control sk-hidden--visually\" id=\"sk-estimator-id-1\" type=\"checkbox\" checked><label for=\"sk-estimator-id-1\" class=\"sk-toggleable__label sk-toggleable__label-arrow\">LinearRegression</label><div class=\"sk-toggleable__content\"><pre>LinearRegression()</pre></div></div></div></div></div>"
      ],
      "text/plain": [
       "LinearRegression()"
      ]
     },
     "execution_count": 10,
     "metadata": {},
     "output_type": "execute_result"
    }
   ],
   "source": [
    "lm3.fit(x_multi,y_multi)"
   ]
  },
  {
   "cell_type": "code",
   "execution_count": 11,
   "id": "bcfe9ebe",
   "metadata": {
    "collapsed": true
   },
   "outputs": [
    {
     "name": "stdout",
     "output_type": "stream",
     "text": [
      "-2.5293261888554888 [-7.34138249e-02 -4.58966953e-02 -2.04018208e+01  4.19809905e+00\n",
      " -4.60443001e-03 -2.66781793e-01  9.71775951e-01 -1.85744994e+00\n",
      " -1.31984513e-01  9.67291398e-01 -5.50462847e-01  2.87914869e-02\n",
      "  1.73370776e-02  5.32321600e+01]\n"
     ]
    }
   ],
   "source": [
    "print(lm3.intercept_,lm3.coef_)"
   ]
  },
  {
   "cell_type": "code",
   "execution_count": 12,
   "id": "31abbc4e",
   "metadata": {
    "collapsed": true
   },
   "outputs": [
    {
     "data": {
      "text/plain": [
       "array([31.06061065, 25.82734994, 34.76179093, 30.29156126, 28.89392459,\n",
       "       26.49322849, 23.42895074, 20.02416219, 11.56130742, 19.33521367,\n",
       "       19.40832275, 21.46092283, 21.64732209, 20.58754389, 20.97453554,\n",
       "       20.38206775, 22.24891345, 18.16194844, 18.02304214, 19.05976115,\n",
       "       12.53225113, 17.70616805, 16.67646353, 14.2493079 , 15.43755774,\n",
       "       14.46443929, 16.6124805 , 15.79888107, 20.52766253, 21.86054613,\n",
       "       12.4333718 , 18.35993429, 10.2198956 , 15.04255416, 15.43548582,\n",
       "       24.1325245 , 22.37097335, 23.08031404, 22.78881142, 29.73927716,\n",
       "       32.30994244, 29.44203913, 26.29910828, 26.08188576, 23.53426162,\n",
       "       22.20790126, 20.59518262, 18.99338124,  8.60965947, 17.76970253,\n",
       "       20.16668291, 23.53962219, 28.11306328, 23.81847775, 15.67775077,\n",
       "       29.00345902, 23.43888346, 30.61134475, 20.6984207 , 19.51704627,\n",
       "       16.08088923, 16.85315024, 23.06325226, 21.75413615, 23.97320264,\n",
       "       28.27626483, 23.99443599, 22.52380565, 18.90465837, 22.27286327,\n",
       "       26.15664669, 22.95346352, 24.49994233, 25.52092124, 26.43656196,\n",
       "       24.85885341, 23.78691581, 25.02399673, 23.02223342, 23.61870518,\n",
       "       28.91632561, 27.00790129, 25.92442903, 24.40568741, 25.27043   ,\n",
       "       29.44339744, 23.06827308, 27.11286566, 31.82272524, 32.23569591,\n",
       "       28.65387882, 27.9588363 , 27.97485404, 28.24506036, 25.35850198,\n",
       "       30.47969953, 25.90075968, 37.98808727, 37.54350822, 34.23979023,\n",
       "       25.8227992 , 26.84732516, 24.71637118, 21.36523486, 21.54433285,\n",
       "       19.78398681, 17.19788222, 22.24973159, 23.69874341, 20.64676837,\n",
       "       21.24883293, 27.95936673, 21.98195878, 22.57640664, 26.98978809,\n",
       "       21.66462464, 24.47059583, 25.20881438, 22.20590142, 21.57771881,\n",
       "       19.91409311, 20.81270541, 19.11541261, 14.49271367, 19.25761706,\n",
       "       20.61192135, 13.15224996, 16.01812179, 19.95120786, 14.6088249 ,\n",
       "       21.19936882, 20.166088  , 21.6323448 , 17.46072557, 15.56603285,\n",
       "       18.66943199, 16.89973396, 20.40355454, 14.40982413, 17.37360315,\n",
       "       13.89172053,  3.69679546, 11.95178464, 12.21010831,  8.81816975,\n",
       "       14.95237421, 18.31095393,  8.32708819, 10.66462161, 15.81897191,\n",
       "       21.89834746, 19.22972847, 18.74498647, 19.5095378 , 21.37513497,\n",
       "       21.50568976, 17.36161794, 35.06713057, 30.05802781, 26.90867531,\n",
       "       30.76075268, 38.16861768, 39.05581396, 41.21973231, 26.51522734,\n",
       "       26.98634894, 38.59948557, 24.75561126, 28.34826979, 27.83575662,\n",
       "       23.88590473, 25.70344616, 23.21138637, 30.16672024, 26.9113608 ,\n",
       "       32.00454052, 26.53400443, 29.84455715, 32.03061023, 33.3691103 ,\n",
       "       35.45600131, 28.33351422, 34.24577597, 31.33953232, 21.86496594,\n",
       "       24.48719281, 36.40914512, 33.52988975, 32.92755536, 34.99898353,\n",
       "       32.40511539, 30.75939318, 34.11353675, 31.57893411, 31.98570588,\n",
       "       39.05446315, 35.31548636, 32.25958543, 34.57050117, 29.5087738 ,\n",
       "       30.22127814, 28.20005396, 36.83404428, 38.53861339, 40.38245886,\n",
       "       23.09508326, 24.57396655, 17.85900268, 20.49677692, 14.51281261,\n",
       "       19.3582454 , 13.80177956, 20.12428062, 24.93897031, 11.5096092 ,\n",
       "       25.01285031, 23.34918764, 27.48626953, 21.50134517, 26.83355036,\n",
       "       30.15589636, 20.88911507, 29.57110364, 29.37195238, 39.31642813,\n",
       "       40.65459723, 38.43923044, 32.96059113, 36.63119503, 31.76655704,\n",
       "       24.0881488 , 33.38959795, 39.36102982, 37.78944712, 28.53226039,\n",
       "       25.48428745, 27.31857364, 33.1578644 , 28.69496659, 28.33440296,\n",
       "       26.5015547 , 22.48539744, 23.68242152, 27.87481243, 15.84914551,\n",
       "       12.96154814, 19.76569678, 19.92664206, 22.29955281, 24.32530259,\n",
       "       24.29626206, 26.18718444, 26.04610959, 32.15946645, 23.66996166,\n",
       "       21.13137058, 34.81092693, 43.60561163, 36.59985032, 34.09723209,\n",
       "       34.34459266, 37.20158818, 40.74170558, 34.20901921, 35.31917943,\n",
       "       27.89873391, 30.32163891, 41.75032868, 39.31308824, 22.27294162,\n",
       "       21.5017147 , 26.30426303, 27.62398973, 32.52876832, 31.87080372,\n",
       "       31.93482545, 31.87298629, 31.0814385 , 29.10039082, 34.77535092,\n",
       "       38.69547906, 33.52435836, 37.49684931, 40.34472291, 29.83721682,\n",
       "       27.66211736, 18.44611315, 25.95919072, 24.92949569, 26.0818021 ,\n",
       "       30.80242804, 31.73960933, 28.68917858, 26.93136831, 24.62140527,\n",
       "       29.3485555 , 27.64193803, 20.66250558, 28.58409617, 31.69183036,\n",
       "       30.2350484 , 27.62701715, 27.79441833, 33.09160886, 32.29939287,\n",
       "       27.87711326, 33.43035991, 30.54148336, 29.78413146, 24.32009427,\n",
       "       19.05846287, 27.76472302, 23.12060977, 26.08503698, 26.37636982,\n",
       "       21.48185882, 18.12432735, 18.48065921, 25.28107248, 21.92289935,\n",
       "       25.84908769, 25.23607458, 23.1290472 , 19.56809913, 25.77969282,\n",
       "       25.59433473, 24.11205644, 20.18869073, 23.58709753, 27.8260346 ,\n",
       "       24.63764265, 21.09737051, 24.75618707, 22.5333309 , 22.56517761,\n",
       "       20.83168188, 19.69010642, 19.39513024, 21.82135981, 20.60570123,\n",
       "       21.18636865, 32.45024636, 26.49588395, 27.78411512, 28.08806888,\n",
       "       19.32272115, 17.41621565, 24.10592315, 26.28512719, 23.68740696,\n",
       "       22.07762914, 21.70398836, 17.84311312, 22.89793066, 13.50889599,\n",
       "       16.6238893 , 15.57964026, 19.39765953, 18.39719694, 18.02540467,\n",
       "       21.3866575 , 18.34272065, 16.68211076, 17.19130816, 34.49166281,\n",
       "       12.65106375, 14.9414288 , 10.55640508, 21.90870051, 29.36497149,\n",
       "       30.8674767 , 23.21136043, 22.53119997,  3.62834458, -1.423384  ,\n",
       "       24.4305173 , 16.85921554, 18.47073235, 14.76477434, 15.05851965,\n",
       "       15.23392869, 16.96697132, 11.24840836, 11.07868509,  1.84780455,\n",
       "        5.44729381,  3.57369321,  3.63034568,  4.34486054, 11.84519547,\n",
       "       14.91932387, 15.33622064,  8.18150466, 18.58827497, 16.11940569,\n",
       "       18.93798549, 17.59173888, 14.31581144,  4.65819772,  9.03432553,\n",
       "        9.63796235, 16.39988652, 16.97508391, 11.46220471,  7.34925349,\n",
       "        8.44812055,  6.01376109, 18.8241666 , 11.68811204, 20.88279783,\n",
       "       18.88314312, 18.78782527,  2.72527225, 12.2900403 , -2.93154148,\n",
       "       11.79604248, 14.92333298,  7.7635488 , 10.68370499, 16.03655887,\n",
       "       19.31415289, 17.4324693 , 17.61416085, 16.59130147, 16.84444302,\n",
       "       12.37604224, 17.84126511, 16.96710716, 15.86782591, 14.5080755 ,\n",
       "       19.90277969, 19.77513251, 22.50925691, 18.28343919, 17.88485393,\n",
       "       15.3876923 , 17.03034896, 11.32991381,  6.61734059, 11.63140095,\n",
       "       11.73204156, 16.90838391, 18.19799167, 16.14704064, 10.96943221,\n",
       "       13.96483495, 17.17517824, 16.62819742, 16.4293658 , 16.95760018,\n",
       "       19.03808224, 17.80194876, 17.0567125 , 21.68224533, 17.22340614,\n",
       "       17.16731708, 14.1339983 , 15.69934894, 17.0835858 , 17.26217938,\n",
       "       18.61359274, 18.2959871 , 18.39677365, 21.75205073, 19.14834938,\n",
       "       17.00641272, 15.18064618, 14.46460821, 15.44195395, 16.36894939,\n",
       "       19.12706285, 21.25304261, 21.35341003, 25.38013782, 14.56969942,\n",
       "       14.90924843, 18.54047052,  9.92023014, 18.33877963, 20.65865298,\n",
       "       21.37918733, 26.15482663, 27.91398527, 19.78746107, 18.51427805,\n",
       "       21.18874225, 18.51161754, 20.37306593, 15.38051288, 12.28960034,\n",
       "        7.87451139, 17.63032064, 20.63549349, 21.66203353, 21.69453117,\n",
       "       17.68194532, 14.70561503, 20.13853037, 21.93762004, 19.8927022 ,\n",
       "       21.18778175, 24.34500481, 23.03448906, 28.80823201, 28.05726674,\n",
       "       23.3482213 ])"
      ]
     },
     "execution_count": 12,
     "metadata": {},
     "output_type": "execute_result"
    }
   ],
   "source": [
    "lm3.predict(x_multi)"
   ]
  },
  {
   "cell_type": "markdown",
   "id": "13e7eb49",
   "metadata": {},
   "source": [
    "# Train-Test-Split"
   ]
  },
  {
   "cell_type": "code",
   "execution_count": 24,
   "id": "30373386",
   "metadata": {},
   "outputs": [],
   "source": [
    "from sklearn.model_selection import train_test_split"
   ]
  },
  {
   "cell_type": "code",
   "execution_count": 25,
   "id": "0acf849e",
   "metadata": {},
   "outputs": [],
   "source": [
    "x_train,x_test,y_train,y_test = train_test_split(x_multi,y_multi,test_size=0.2,random_state=0)"
   ]
  },
  {
   "cell_type": "code",
   "execution_count": 26,
   "id": "fd316630",
   "metadata": {},
   "outputs": [
    {
     "name": "stdout",
     "output_type": "stream",
     "text": [
      "(404, 14) (404,) (102, 14) (102,)\n"
     ]
    }
   ],
   "source": [
    "print(x_train.shape,y_train.shape,x_test.shape,y_test.shape)"
   ]
  },
  {
   "cell_type": "code",
   "execution_count": 29,
   "id": "6a1a23a1",
   "metadata": {},
   "outputs": [
    {
     "data": {
      "text/html": [
       "<style>#sk-container-id-2 {color: black;background-color: white;}#sk-container-id-2 pre{padding: 0;}#sk-container-id-2 div.sk-toggleable {background-color: white;}#sk-container-id-2 label.sk-toggleable__label {cursor: pointer;display: block;width: 100%;margin-bottom: 0;padding: 0.3em;box-sizing: border-box;text-align: center;}#sk-container-id-2 label.sk-toggleable__label-arrow:before {content: \"▸\";float: left;margin-right: 0.25em;color: #696969;}#sk-container-id-2 label.sk-toggleable__label-arrow:hover:before {color: black;}#sk-container-id-2 div.sk-estimator:hover label.sk-toggleable__label-arrow:before {color: black;}#sk-container-id-2 div.sk-toggleable__content {max-height: 0;max-width: 0;overflow: hidden;text-align: left;background-color: #f0f8ff;}#sk-container-id-2 div.sk-toggleable__content pre {margin: 0.2em;color: black;border-radius: 0.25em;background-color: #f0f8ff;}#sk-container-id-2 input.sk-toggleable__control:checked~div.sk-toggleable__content {max-height: 200px;max-width: 100%;overflow: auto;}#sk-container-id-2 input.sk-toggleable__control:checked~label.sk-toggleable__label-arrow:before {content: \"▾\";}#sk-container-id-2 div.sk-estimator input.sk-toggleable__control:checked~label.sk-toggleable__label {background-color: #d4ebff;}#sk-container-id-2 div.sk-label input.sk-toggleable__control:checked~label.sk-toggleable__label {background-color: #d4ebff;}#sk-container-id-2 input.sk-hidden--visually {border: 0;clip: rect(1px 1px 1px 1px);clip: rect(1px, 1px, 1px, 1px);height: 1px;margin: -1px;overflow: hidden;padding: 0;position: absolute;width: 1px;}#sk-container-id-2 div.sk-estimator {font-family: monospace;background-color: #f0f8ff;border: 1px dotted black;border-radius: 0.25em;box-sizing: border-box;margin-bottom: 0.5em;}#sk-container-id-2 div.sk-estimator:hover {background-color: #d4ebff;}#sk-container-id-2 div.sk-parallel-item::after {content: \"\";width: 100%;border-bottom: 1px solid gray;flex-grow: 1;}#sk-container-id-2 div.sk-label:hover label.sk-toggleable__label {background-color: #d4ebff;}#sk-container-id-2 div.sk-serial::before {content: \"\";position: absolute;border-left: 1px solid gray;box-sizing: border-box;top: 0;bottom: 0;left: 50%;z-index: 0;}#sk-container-id-2 div.sk-serial {display: flex;flex-direction: column;align-items: center;background-color: white;padding-right: 0.2em;padding-left: 0.2em;position: relative;}#sk-container-id-2 div.sk-item {position: relative;z-index: 1;}#sk-container-id-2 div.sk-parallel {display: flex;align-items: stretch;justify-content: center;background-color: white;position: relative;}#sk-container-id-2 div.sk-item::before, #sk-container-id-2 div.sk-parallel-item::before {content: \"\";position: absolute;border-left: 1px solid gray;box-sizing: border-box;top: 0;bottom: 0;left: 50%;z-index: -1;}#sk-container-id-2 div.sk-parallel-item {display: flex;flex-direction: column;z-index: 1;position: relative;background-color: white;}#sk-container-id-2 div.sk-parallel-item:first-child::after {align-self: flex-end;width: 50%;}#sk-container-id-2 div.sk-parallel-item:last-child::after {align-self: flex-start;width: 50%;}#sk-container-id-2 div.sk-parallel-item:only-child::after {width: 0;}#sk-container-id-2 div.sk-dashed-wrapped {border: 1px dashed gray;margin: 0 0.4em 0.5em 0.4em;box-sizing: border-box;padding-bottom: 0.4em;background-color: white;}#sk-container-id-2 div.sk-label label {font-family: monospace;font-weight: bold;display: inline-block;line-height: 1.2em;}#sk-container-id-2 div.sk-label-container {text-align: center;}#sk-container-id-2 div.sk-container {/* jupyter's `normalize.less` sets `[hidden] { display: none; }` but bootstrap.min.css set `[hidden] { display: none !important; }` so we also need the `!important` here to be able to override the default hidden behavior on the sphinx rendered scikit-learn.org. See: https://github.com/scikit-learn/scikit-learn/issues/21755 */display: inline-block !important;position: relative;}#sk-container-id-2 div.sk-text-repr-fallback {display: none;}</style><div id=\"sk-container-id-2\" class=\"sk-top-container\"><div class=\"sk-text-repr-fallback\"><pre>LinearRegression()</pre><b>In a Jupyter environment, please rerun this cell to show the HTML representation or trust the notebook. <br />On GitHub, the HTML representation is unable to render, please try loading this page with nbviewer.org.</b></div><div class=\"sk-container\" hidden><div class=\"sk-item\"><div class=\"sk-estimator sk-toggleable\"><input class=\"sk-toggleable__control sk-hidden--visually\" id=\"sk-estimator-id-2\" type=\"checkbox\" checked><label for=\"sk-estimator-id-2\" class=\"sk-toggleable__label sk-toggleable__label-arrow\">LinearRegression</label><div class=\"sk-toggleable__content\"><pre>LinearRegression()</pre></div></div></div></div></div>"
      ],
      "text/plain": [
       "LinearRegression()"
      ]
     },
     "execution_count": 29,
     "metadata": {},
     "output_type": "execute_result"
    }
   ],
   "source": [
    "lm_a = LinearRegression()\n",
    "lm_a.fit(x_train,y_train)"
   ]
  },
  {
   "cell_type": "code",
   "execution_count": 30,
   "id": "5e3268d4",
   "metadata": {},
   "outputs": [],
   "source": [
    "y_test_a = lm_a.predict(x_test)"
   ]
  },
  {
   "cell_type": "code",
   "execution_count": 31,
   "id": "d2bc7ad0",
   "metadata": {},
   "outputs": [],
   "source": [
    "y_train_a = lm_a.predict(x_train)"
   ]
  },
  {
   "cell_type": "markdown",
   "id": "710f97e4",
   "metadata": {},
   "source": [
    "## Test the accuracy of test and trained data "
   ]
  },
  {
   "cell_type": "code",
   "execution_count": 32,
   "id": "effab1bf",
   "metadata": {},
   "outputs": [],
   "source": [
    "from sklearn.metrics import r2_score"
   ]
  },
  {
   "cell_type": "code",
   "execution_count": 33,
   "id": "fc9e7951",
   "metadata": {},
   "outputs": [
    {
     "data": {
      "text/plain": [
       "0.530565537030559"
      ]
     },
     "execution_count": 33,
     "metadata": {},
     "output_type": "execute_result"
    }
   ],
   "source": [
    "r2_score(y_test,y_test_a)"
   ]
  },
  {
   "cell_type": "code",
   "execution_count": 34,
   "id": "0acfb069",
   "metadata": {},
   "outputs": [
    {
     "data": {
      "text/plain": [
       "0.7582232171827903"
      ]
     },
     "execution_count": 34,
     "metadata": {},
     "output_type": "execute_result"
    }
   ],
   "source": [
    "r2_score(y_train,y_train_a)"
   ]
  },
  {
   "cell_type": "markdown",
   "id": "edbb7e8b",
   "metadata": {},
   "source": [
    "# Ridge - Lasso"
   ]
  },
  {
   "cell_type": "code",
   "execution_count": 37,
   "id": "23b443db",
   "metadata": {},
   "outputs": [],
   "source": [
    "from sklearn import preprocessing"
   ]
  },
  {
   "cell_type": "code",
   "execution_count": 38,
   "id": "1db3ad30",
   "metadata": {},
   "outputs": [],
   "source": [
    "scaler = preprocessing.StandardScaler().fit(x_train)"
   ]
  },
  {
   "cell_type": "code",
   "execution_count": 39,
   "id": "67d677da",
   "metadata": {},
   "outputs": [],
   "source": [
    "x_train_scale = scaler.transform(x_train)"
   ]
  },
  {
   "cell_type": "code",
   "execution_count": 40,
   "id": "99754c86",
   "metadata": {},
   "outputs": [],
   "source": [
    "x_test_scale = scaler.transform(x_test)"
   ]
  },
  {
   "cell_type": "code",
   "execution_count": 41,
   "id": "61727003",
   "metadata": {},
   "outputs": [],
   "source": [
    "from sklearn.linear_model import Ridge"
   ]
  },
  {
   "cell_type": "code",
   "execution_count": 50,
   "id": "d84e3271",
   "metadata": {},
   "outputs": [
    {
     "data": {
      "text/html": [
       "<style>#sk-container-id-4 {color: black;background-color: white;}#sk-container-id-4 pre{padding: 0;}#sk-container-id-4 div.sk-toggleable {background-color: white;}#sk-container-id-4 label.sk-toggleable__label {cursor: pointer;display: block;width: 100%;margin-bottom: 0;padding: 0.3em;box-sizing: border-box;text-align: center;}#sk-container-id-4 label.sk-toggleable__label-arrow:before {content: \"▸\";float: left;margin-right: 0.25em;color: #696969;}#sk-container-id-4 label.sk-toggleable__label-arrow:hover:before {color: black;}#sk-container-id-4 div.sk-estimator:hover label.sk-toggleable__label-arrow:before {color: black;}#sk-container-id-4 div.sk-toggleable__content {max-height: 0;max-width: 0;overflow: hidden;text-align: left;background-color: #f0f8ff;}#sk-container-id-4 div.sk-toggleable__content pre {margin: 0.2em;color: black;border-radius: 0.25em;background-color: #f0f8ff;}#sk-container-id-4 input.sk-toggleable__control:checked~div.sk-toggleable__content {max-height: 200px;max-width: 100%;overflow: auto;}#sk-container-id-4 input.sk-toggleable__control:checked~label.sk-toggleable__label-arrow:before {content: \"▾\";}#sk-container-id-4 div.sk-estimator input.sk-toggleable__control:checked~label.sk-toggleable__label {background-color: #d4ebff;}#sk-container-id-4 div.sk-label input.sk-toggleable__control:checked~label.sk-toggleable__label {background-color: #d4ebff;}#sk-container-id-4 input.sk-hidden--visually {border: 0;clip: rect(1px 1px 1px 1px);clip: rect(1px, 1px, 1px, 1px);height: 1px;margin: -1px;overflow: hidden;padding: 0;position: absolute;width: 1px;}#sk-container-id-4 div.sk-estimator {font-family: monospace;background-color: #f0f8ff;border: 1px dotted black;border-radius: 0.25em;box-sizing: border-box;margin-bottom: 0.5em;}#sk-container-id-4 div.sk-estimator:hover {background-color: #d4ebff;}#sk-container-id-4 div.sk-parallel-item::after {content: \"\";width: 100%;border-bottom: 1px solid gray;flex-grow: 1;}#sk-container-id-4 div.sk-label:hover label.sk-toggleable__label {background-color: #d4ebff;}#sk-container-id-4 div.sk-serial::before {content: \"\";position: absolute;border-left: 1px solid gray;box-sizing: border-box;top: 0;bottom: 0;left: 50%;z-index: 0;}#sk-container-id-4 div.sk-serial {display: flex;flex-direction: column;align-items: center;background-color: white;padding-right: 0.2em;padding-left: 0.2em;position: relative;}#sk-container-id-4 div.sk-item {position: relative;z-index: 1;}#sk-container-id-4 div.sk-parallel {display: flex;align-items: stretch;justify-content: center;background-color: white;position: relative;}#sk-container-id-4 div.sk-item::before, #sk-container-id-4 div.sk-parallel-item::before {content: \"\";position: absolute;border-left: 1px solid gray;box-sizing: border-box;top: 0;bottom: 0;left: 50%;z-index: -1;}#sk-container-id-4 div.sk-parallel-item {display: flex;flex-direction: column;z-index: 1;position: relative;background-color: white;}#sk-container-id-4 div.sk-parallel-item:first-child::after {align-self: flex-end;width: 50%;}#sk-container-id-4 div.sk-parallel-item:last-child::after {align-self: flex-start;width: 50%;}#sk-container-id-4 div.sk-parallel-item:only-child::after {width: 0;}#sk-container-id-4 div.sk-dashed-wrapped {border: 1px dashed gray;margin: 0 0.4em 0.5em 0.4em;box-sizing: border-box;padding-bottom: 0.4em;background-color: white;}#sk-container-id-4 div.sk-label label {font-family: monospace;font-weight: bold;display: inline-block;line-height: 1.2em;}#sk-container-id-4 div.sk-label-container {text-align: center;}#sk-container-id-4 div.sk-container {/* jupyter's `normalize.less` sets `[hidden] { display: none; }` but bootstrap.min.css set `[hidden] { display: none !important; }` so we also need the `!important` here to be able to override the default hidden behavior on the sphinx rendered scikit-learn.org. See: https://github.com/scikit-learn/scikit-learn/issues/21755 */display: inline-block !important;position: relative;}#sk-container-id-4 div.sk-text-repr-fallback {display: none;}</style><div id=\"sk-container-id-4\" class=\"sk-top-container\"><div class=\"sk-text-repr-fallback\"><pre>Ridge(alpha=0.5)</pre><b>In a Jupyter environment, please rerun this cell to show the HTML representation or trust the notebook. <br />On GitHub, the HTML representation is unable to render, please try loading this page with nbviewer.org.</b></div><div class=\"sk-container\" hidden><div class=\"sk-item\"><div class=\"sk-estimator sk-toggleable\"><input class=\"sk-toggleable__control sk-hidden--visually\" id=\"sk-estimator-id-4\" type=\"checkbox\" checked><label for=\"sk-estimator-id-4\" class=\"sk-toggleable__label sk-toggleable__label-arrow\">Ridge</label><div class=\"sk-toggleable__content\"><pre>Ridge(alpha=0.5)</pre></div></div></div></div></div>"
      ],
      "text/plain": [
       "Ridge(alpha=0.5)"
      ]
     },
     "execution_count": 50,
     "metadata": {},
     "output_type": "execute_result"
    }
   ],
   "source": [
    "lm_r = Ridge(alpha=0.5)\n",
    "lm_r.fit(x_train_scale,y_train)"
   ]
  },
  {
   "cell_type": "code",
   "execution_count": 51,
   "id": "b0b806aa",
   "metadata": {},
   "outputs": [
    {
     "data": {
      "text/plain": [
       "0.5305838843354895"
      ]
     },
     "execution_count": 51,
     "metadata": {},
     "output_type": "execute_result"
    }
   ],
   "source": [
    "r2_score(y_test,lm_r.predict(x_test_scale))"
   ]
  },
  {
   "cell_type": "code",
   "execution_count": 46,
   "id": "d51aded2",
   "metadata": {},
   "outputs": [],
   "source": [
    "from sklearn.model_selection import validation_curve "
   ]
  },
  {
   "cell_type": "code",
   "execution_count": 52,
   "id": "4010f099",
   "metadata": {},
   "outputs": [],
   "source": [
    "param_space = np.logspace(-2,8,100)"
   ]
  },
  {
   "cell_type": "code",
   "execution_count": 53,
   "id": "b346901b",
   "metadata": {},
   "outputs": [
    {
     "data": {
      "text/plain": [
       "array([1.00000000e-02, 1.26185688e-02, 1.59228279e-02, 2.00923300e-02,\n",
       "       2.53536449e-02, 3.19926714e-02, 4.03701726e-02, 5.09413801e-02,\n",
       "       6.42807312e-02, 8.11130831e-02, 1.02353102e-01, 1.29154967e-01,\n",
       "       1.62975083e-01, 2.05651231e-01, 2.59502421e-01, 3.27454916e-01,\n",
       "       4.13201240e-01, 5.21400829e-01, 6.57933225e-01, 8.30217568e-01,\n",
       "       1.04761575e+00, 1.32194115e+00, 1.66810054e+00, 2.10490414e+00,\n",
       "       2.65608778e+00, 3.35160265e+00, 4.22924287e+00, 5.33669923e+00,\n",
       "       6.73415066e+00, 8.49753436e+00, 1.07226722e+01, 1.35304777e+01,\n",
       "       1.70735265e+01, 2.15443469e+01, 2.71858824e+01, 3.43046929e+01,\n",
       "       4.32876128e+01, 5.46227722e+01, 6.89261210e+01, 8.69749003e+01,\n",
       "       1.09749877e+02, 1.38488637e+02, 1.74752840e+02, 2.20513074e+02,\n",
       "       2.78255940e+02, 3.51119173e+02, 4.43062146e+02, 5.59081018e+02,\n",
       "       7.05480231e+02, 8.90215085e+02, 1.12332403e+03, 1.41747416e+03,\n",
       "       1.78864953e+03, 2.25701972e+03, 2.84803587e+03, 3.59381366e+03,\n",
       "       4.53487851e+03, 5.72236766e+03, 7.22080902e+03, 9.11162756e+03,\n",
       "       1.14975700e+04, 1.45082878e+04, 1.83073828e+04, 2.31012970e+04,\n",
       "       2.91505306e+04, 3.67837977e+04, 4.64158883e+04, 5.85702082e+04,\n",
       "       7.39072203e+04, 9.32603347e+04, 1.17681195e+05, 1.48496826e+05,\n",
       "       1.87381742e+05, 2.36448941e+05, 2.98364724e+05, 3.76493581e+05,\n",
       "       4.75081016e+05, 5.99484250e+05, 7.56463328e+05, 9.54548457e+05,\n",
       "       1.20450354e+06, 1.51991108e+06, 1.91791026e+06, 2.42012826e+06,\n",
       "       3.05385551e+06, 3.85352859e+06, 4.86260158e+06, 6.13590727e+06,\n",
       "       7.74263683e+06, 9.77009957e+06, 1.23284674e+07, 1.55567614e+07,\n",
       "       1.96304065e+07, 2.47707636e+07, 3.12571585e+07, 3.94420606e+07,\n",
       "       4.97702356e+07, 6.28029144e+07, 7.92482898e+07, 1.00000000e+08])"
      ]
     },
     "execution_count": 53,
     "metadata": {},
     "output_type": "execute_result"
    }
   ],
   "source": [
    "param_space"
   ]
  },
  {
   "cell_type": "code",
   "execution_count": 86,
   "id": "bdc7b409",
   "metadata": {},
   "outputs": [],
   "source": [
    "#train_score,test_score=validation_curve(Ridge(),x_train_scale,y_train,\"alpha\",param_space,scoring='r2')\n",
    "train_scores, test_scores = validation_curve(\n",
    "  Ridge(),\n",
    "  x_train_scale, \n",
    "  y_train,\n",
    "  param_name=\"alpha\",\n",
    "  param_range=param_space,\n",
    "  scoring = \"r2\"\n",
    ")"
   ]
  },
  {
   "cell_type": "code",
   "execution_count": 101,
   "id": "01fcc181",
   "metadata": {
    "collapsed": true
   },
   "outputs": [
    {
     "name": "stdout",
     "output_type": "stream",
     "text": [
      "[[7.51028076e-01 7.66160913e-01 7.54854282e-01 7.83198285e-01\n",
      "  7.45931851e-01]\n",
      " [7.51028046e-01 7.66160887e-01 7.54854189e-01 7.83198112e-01\n",
      "  7.45931729e-01]\n",
      " [7.51027998e-01 7.66160846e-01 7.54854043e-01 7.83197840e-01\n",
      "  7.45931539e-01]\n",
      " [7.51027922e-01 7.66160783e-01 7.54853814e-01 7.83197414e-01\n",
      "  7.45931241e-01]\n",
      " [7.51027805e-01 7.66160684e-01 7.54853455e-01 7.83196752e-01\n",
      "  7.45930777e-01]\n",
      " [7.51027622e-01 7.66160530e-01 7.54852898e-01 7.83195725e-01\n",
      "  7.45930060e-01]\n",
      " [7.51027338e-01 7.66160292e-01 7.54852037e-01 7.83194146e-01\n",
      "  7.45928958e-01]\n",
      " [7.51026901e-01 7.66159926e-01 7.54850715e-01 7.83191739e-01\n",
      "  7.45927280e-01]\n",
      " [7.51026235e-01 7.66159371e-01 7.54848703e-01 7.83188105e-01\n",
      "  7.45924752e-01]\n",
      " [7.51025229e-01 7.66158536e-01 7.54845676e-01 7.83182689e-01\n",
      "  7.45920992e-01]\n",
      " [7.51023728e-01 7.66157295e-01 7.54841180e-01 7.83174738e-01\n",
      "  7.45915487e-01]\n",
      " [7.51021521e-01 7.66155480e-01 7.54834605e-01 7.83163277e-01\n",
      "  7.45907575e-01]\n",
      " [7.51018329e-01 7.66152869e-01 7.54825167e-01 7.83147102e-01\n",
      "  7.45896446e-01]\n",
      " [7.51013804e-01 7.66149186e-01 7.54811908e-01 7.83124833e-01\n",
      "  7.45881182e-01]\n",
      " [7.51007531e-01 7.66144102e-01 7.54793732e-01 7.83095020e-01\n",
      "  7.45860831e-01]\n",
      " [7.50999043e-01 7.66137240e-01 7.54769491e-01 7.83056342e-01\n",
      "  7.45834538e-01]\n",
      " [7.50987853e-01 7.66128192e-01 7.54738114e-01 7.83007849e-01\n",
      "  7.45801697e-01]\n",
      " [7.50973488e-01 7.66116523e-01 7.54698762e-01 7.82949217e-01\n",
      "  7.45762100e-01]\n",
      " [7.50955510e-01 7.66101770e-01 7.54650968e-01 7.82880930e-01\n",
      "  7.45716014e-01]\n",
      " [7.50933505e-01 7.66083409e-01 7.54594703e-01 7.82804290e-01\n",
      "  7.45664138e-01]\n",
      " [7.50907022e-01 7.66060791e-01 7.54530317e-01 7.82721235e-01\n",
      "  7.45607412e-01]\n",
      " [7.50875430e-01 7.66033035e-01 7.54458350e-01 7.82633956e-01\n",
      "  7.45546692e-01]\n",
      " [7.50837703e-01 7.65998866e-01 7.54379219e-01 7.82544384e-01\n",
      "  7.45482327e-01]\n",
      " [7.50792118e-01 7.65956403e-01 7.54292825e-01 7.82453659e-01\n",
      "  7.45413706e-01]\n",
      " [7.50735875e-01 7.65902851e-01 7.54198111e-01 7.82361627e-01\n",
      "  7.45338785e-01]\n",
      " [7.50664621e-01 7.65834102e-01 7.54092587e-01 7.82266401e-01\n",
      "  7.45253625e-01]\n",
      " [7.50571897e-01 7.65744221e-01 7.53971805e-01 7.82163957e-01\n",
      "  7.45151896e-01]\n",
      " [7.50448504e-01 7.65624831e-01 7.53828767e-01 7.82047703e-01\n",
      "  7.45024358e-01]\n",
      " [7.50281820e-01 7.65464433e-01 7.53653279e-01 7.81907965e-01\n",
      "  7.44858298e-01]\n",
      " [7.50055094e-01 7.65247654e-01 7.53431213e-01 7.81731282e-01\n",
      "  7.44636922e-01]\n",
      " [7.49746661e-01 7.64954380e-01 7.53143606e-01 7.81499419e-01\n",
      "  7.44338677e-01]\n",
      " [7.49328917e-01 7.64558539e-01 7.52765374e-01 7.81187842e-01\n",
      "  7.43936329e-01]\n",
      " [7.48766657e-01 7.64026116e-01 7.52263195e-01 7.80763301e-01\n",
      "  7.43395440e-01]\n",
      " [7.48014142e-01 7.63311766e-01 7.51591873e-01 7.80179944e-01\n",
      "  7.42671633e-01]\n",
      " [7.47010108e-01 7.62353274e-01 7.50688363e-01 7.79373242e-01\n",
      "  7.41705818e-01]\n",
      " [7.45669952e-01 7.61063202e-01 7.49462666e-01 7.78251043e-01\n",
      "  7.40416596e-01]\n",
      " [7.43874637e-01 7.59317420e-01 7.47785285e-01 7.76681349e-01\n",
      "  7.38689327e-01]\n",
      " [7.41456416e-01 7.56940760e-01 7.45471670e-01 7.74477087e-01\n",
      "  7.36362023e-01]\n",
      " [7.38182286e-01 7.53690943e-01 7.42265366e-01 7.71379199e-01\n",
      "  7.33209135e-01]\n",
      " [7.33737278e-01 7.49243192e-01 7.37823159e-01 7.67040983e-01\n",
      "  7.28925607e-01]\n",
      " [7.27711398e-01 7.43179788e-01 7.31707480e-01 7.61018589e-01\n",
      "  7.23115247e-01]\n",
      " [7.19596294e-01 7.34991011e-01 7.23393104e-01 7.52774633e-01\n",
      "  7.15289436e-01]\n",
      " [7.08799725e-01 7.24095426e-01 7.12295637e-01 7.41702888e-01\n",
      "  7.04883659e-01]\n",
      " [6.94686167e-01 7.09886529e-01 6.97826809e-01 7.27180358e-01\n",
      "  6.91298866e-01]\n",
      " [6.76648093e-01 6.91807367e-01 6.79474609e-01 7.08646884e-01\n",
      "  6.73970343e-01]\n",
      " [6.54203204e-01 6.69444372e-01 6.56895473e-01 6.85701848e-01\n",
      "  6.52457751e-01]\n",
      " [6.27099742e-01 6.42619276e-01 6.29994982e-01 6.58195511e-01\n",
      "  6.26538289e-01]\n",
      " [5.95400772e-01 6.11450443e-01 5.98969854e-01 6.26285934e-01\n",
      "  5.96276226e-01]\n",
      " [5.59517291e-01 5.76359583e-01 5.64293059e-01 5.90438159e-01\n",
      "  5.62043494e-01]\n",
      " [5.20174148e-01 5.38018252e-01 5.26644728e-01 5.51361759e-01\n",
      "  5.24480921e-01]\n",
      " [4.78317601e-01 4.97253046e-01 4.86814171e-01 5.09907865e-01\n",
      "  4.84412676e-01]\n",
      " [4.34995710e-01 4.54944693e-01 4.45609290e-01 4.66963078e-01\n",
      "  4.42744815e-01]\n",
      " [3.91249182e-01 4.11953894e-01 4.03801587e-01 4.23374817e-01\n",
      "  4.00381016e-01]\n",
      " [3.48037571e-01 3.69087462e-01 3.62112628e-01 3.79922193e-01\n",
      "  3.58173448e-01]\n",
      " [3.06203569e-01 3.27094613e-01 3.21225172e-01 3.37321219e-01\n",
      "  3.16904766e-01]\n",
      " [2.66461021e-01 2.86670128e-01 2.81792611e-01 2.96238375e-01\n",
      "  2.77282705e-01]\n",
      " [2.29389047e-01 2.48444556e-01 2.44427745e-01 2.57289252e-01\n",
      "  2.39929156e-01]\n",
      " [1.95423086e-01 2.12956456e-01 2.09669051e-01 2.21014580e-01\n",
      "  2.05357405e-01]\n",
      " [1.64844727e-01 1.80616448e-01 1.77937638e-01 1.87842684e-01\n",
      "  1.73944240e-01]\n",
      " [1.37777957e-01 1.51678747e-01 1.49502860e-01 1.58055468e-01\n",
      "  1.45909495e-01]\n",
      " [1.14198069e-01 1.26231827e-01 1.24469124e-01 1.31772155e-01\n",
      "  1.21312606e-01]\n",
      " [9.39540344e-02 1.04211013e-01 1.02786484e-01 1.08955892e-01\n",
      "  1.00068247e-01]\n",
      " [7.68001811e-02 8.54279074e-02 8.42793493e-02 8.94394552e-02\n",
      "  8.19763172e-02]\n",
      " [6.24308859e-02 6.96079844e-02 6.86840134e-02 7.29615019e-02\n",
      "  6.67584326e-02]\n",
      " [5.05126179e-02 5.64281185e-02 5.56864052e-02 5.92045853e-02\n",
      "  5.40935799e-02]\n",
      " [4.07098116e-02 4.55485386e-02 4.49543072e-02 4.78285963e-02\n",
      "  4.36480702e-02]\n",
      " [3.27033107e-02 3.66367302e-02 3.61615022e-02 3.84964747e-02\n",
      "  3.50976984e-02]\n",
      " [2.62017861e-02 2.93831621e-02 2.90036998e-02 3.08916189e-02\n",
      "  2.81421378e-02]\n",
      " [2.09474211e-02 2.35100477e-02 2.32074613e-02 2.47279927e-02\n",
      "  2.25127863e-02]\n",
      " [1.67174160e-02 1.87748537e-02 1.85338444e-02 1.97545922e-02\n",
      "  1.79757123e-02]\n",
      " [1.33227514e-02 1.49702343e-02 1.47784544e-02 1.57559940e-02\n",
      "  1.43312916e-02]\n",
      " [1.06053598e-02 1.19217865e-02 1.17693008e-02 1.25504534e-02\n",
      "  1.14118487e-02]\n",
      " [8.43454352e-03 9.48466288e-03 9.36349869e-03 9.98667003e-03\n",
      "  9.07826966e-03]\n",
      " [6.70319259e-03 7.53974914e-03 7.44352362e-03 7.93999407e-03\n",
      "  7.21624805e-03]\n",
      " [5.32414122e-03 5.98985212e-03 5.91346485e-03 6.30856818e-03\n",
      "  5.73257180e-03]\n",
      " [4.22684586e-03 4.75614965e-03 4.69553157e-03 5.00969359e-03\n",
      "  4.55168412e-03]\n",
      " [3.35446480e-03 3.77502613e-03 3.72693516e-03 3.97656601e-03\n",
      "  3.61262790e-03]\n",
      " [2.66135498e-03 2.99533409e-03 2.95718987e-03 3.15543620e-03\n",
      "  2.86640767e-03]\n",
      " [2.11096601e-03 2.37607419e-03 2.34582476e-03 2.50319514e-03\n",
      "  2.27375826e-03]\n",
      " [1.67409211e-03 1.88445988e-03 1.86047462e-03 1.98535396e-03\n",
      "  1.80328567e-03]\n",
      " [1.32743630e-03 1.49432159e-03 1.47530543e-03 1.57437465e-03\n",
      "  1.42993543e-03]\n",
      " [1.05244019e-03 1.18480237e-03 1.16972719e-03 1.24830359e-03\n",
      "  1.13374160e-03]\n",
      " [8.34336054e-04 9.39298991e-04 9.27348905e-04 9.89660702e-04\n",
      "  8.98811678e-04]\n",
      " [6.61382579e-04 7.44606766e-04 7.35134472e-04 7.84541500e-04\n",
      "  7.12507102e-04]\n",
      " [5.24250964e-04 5.90231641e-04 5.82723717e-04 6.21894282e-04\n",
      "  5.64784307e-04]\n",
      " [4.15533171e-04 4.67838653e-04 4.61887940e-04 4.92940211e-04\n",
      "  4.47666485e-04]\n",
      " [3.29348950e-04 3.70810783e-04 3.66094434e-04 3.90709281e-04\n",
      "  3.54821171e-04]\n",
      " [2.61032319e-04 2.93896793e-04 2.90158847e-04 3.09669746e-04\n",
      "  2.81223092e-04]\n",
      " [2.06881809e-04 2.32930538e-04 2.29968078e-04 2.45432680e-04\n",
      "  2.22885461e-04]\n",
      " [1.63961702e-04 1.84607511e-04 1.82259685e-04 1.94516718e-04\n",
      "  1.76646088e-04]\n",
      " [1.29944010e-04 1.46307116e-04 1.44446425e-04 1.54160918e-04\n",
      "  1.39997277e-04]\n",
      " [1.02982906e-04 1.15951427e-04 1.14476812e-04 1.22176013e-04\n",
      "  1.10950645e-04]\n",
      " [8.16150180e-05 9.18930030e-05 9.07243638e-05 9.68262459e-05\n",
      "  8.79297523e-05]\n",
      " [6.46802813e-05 7.28258189e-05 7.18996726e-05 7.67355589e-05\n",
      "  6.96848750e-05]\n",
      " [5.12591317e-05 5.77145887e-05 5.69806212e-05 6.08131348e-05\n",
      "  5.52253592e-05]\n",
      " [4.06226855e-05 4.57386866e-05 4.51570222e-05 4.81943220e-05\n",
      "  4.37659614e-05]\n",
      " [3.21932234e-05 3.62476684e-05 3.57867044e-05 3.81937742e-05\n",
      "  3.46842838e-05]\n",
      " [2.55128552e-05 2.87259974e-05 2.83606882e-05 3.02682886e-05\n",
      "  2.74870207e-05]\n",
      " [2.02186749e-05 2.27650752e-05 2.24755720e-05 2.39873371e-05\n",
      "  2.17831941e-05]\n",
      " [1.60230630e-05 1.80410669e-05 1.78116394e-05 1.90097026e-05\n",
      "  1.72629346e-05]]\n"
     ]
    }
   ],
   "source": [
    "print(train_scores)\n",
    "test_mean = np.mean(test_scores,axis=1)\n",
    "train_mean = np.mean(train_scores,axis=1)"
   ]
  },
  {
   "cell_type": "code",
   "execution_count": 102,
   "id": "4540058d",
   "metadata": {
    "collapsed": true
   },
   "outputs": [
    {
     "data": {
      "text/plain": [
       "array([7.60234681e-01, 7.60234593e-01, 7.60234453e-01, 7.60234235e-01,\n",
       "       7.60233895e-01, 7.60233367e-01, 7.60232554e-01, 7.60231312e-01,\n",
       "       7.60229433e-01, 7.60226624e-01, 7.60222486e-01, 7.60216491e-01,\n",
       "       7.60207983e-01, 7.60196183e-01, 7.60180243e-01, 7.60159331e-01,\n",
       "       7.60132741e-01, 7.60100018e-01, 7.60061038e-01, 7.60016009e-01,\n",
       "       7.59965355e-01, 7.59909492e-01, 7.59848500e-01, 7.59781742e-01,\n",
       "       7.59707450e-01, 7.59622267e-01, 7.59520755e-01, 7.59394833e-01,\n",
       "       7.59233159e-01, 7.59020433e-01, 7.58736549e-01, 7.58355400e-01,\n",
       "       7.57842942e-01, 7.57153872e-01, 7.56226161e-01, 7.54972692e-01,\n",
       "       7.53269604e-01, 7.50941591e-01, 7.47745386e-01, 7.43354044e-01,\n",
       "       7.37346500e-01, 7.29208896e-01, 7.18355467e-01, 7.04175746e-01,\n",
       "       6.86109459e-01, 6.63740530e-01, 6.36889560e-01, 6.05676646e-01,\n",
       "       5.70530317e-01, 5.32135962e-01, 4.91341072e-01, 4.49051517e-01,\n",
       "       4.06152099e-01, 3.63466660e-01, 3.21749868e-01, 2.81688968e-01,\n",
       "       2.43895951e-01, 2.08884116e-01, 1.77037147e-01, 1.48584905e-01,\n",
       "       1.23596756e-01, 1.01995134e-01, 8.35846420e-02, 6.80885636e-02,\n",
       "       5.51850614e-02, 4.45378648e-02, 3.58191432e-02, 2.87244809e-02,\n",
       "       2.29811418e-02, 1.83512837e-02, 1.46317451e-02, 1.16517498e-02,\n",
       "       9.26952896e-03, 7.36854149e-03, 5.85371963e-03, 4.64798096e-03,\n",
       "       3.68912400e-03, 2.92714456e-03, 2.32196367e-03, 1.84153325e-03,\n",
       "       1.46027468e-03, 1.15780299e-03, 9.17891266e-04, 7.27634484e-04,\n",
       "       5.76776982e-04, 4.57173292e-04, 3.62356924e-04, 2.87196159e-04,\n",
       "       2.27619713e-04, 1.80398341e-04, 1.42971149e-04, 1.13307560e-04,\n",
       "       8.97976766e-05, 7.11652413e-05, 5.63985671e-05, 4.46957355e-05,\n",
       "       3.54211308e-05, 2.80709700e-05, 2.22459707e-05, 1.76296813e-05])"
      ]
     },
     "execution_count": 102,
     "metadata": {},
     "output_type": "execute_result"
    }
   ],
   "source": [
    "train_mean"
   ]
  },
  {
   "cell_type": "code",
   "execution_count": 100,
   "id": "899b5f92",
   "metadata": {},
   "outputs": [
    {
     "data": {
      "text/plain": [
       "0.7427069127884499"
      ]
     },
     "execution_count": 100,
     "metadata": {},
     "output_type": "execute_result"
    }
   ],
   "source": [
    "max(test_mean)"
   ]
  },
  {
   "cell_type": "code",
   "execution_count": 108,
   "id": "a4c3aea6",
   "metadata": {
    "scrolled": false
   },
   "outputs": [
    {
     "data": {
      "text/plain": [
       "<seaborn.axisgrid.JointGrid at 0x1f6c3840ed0>"
      ]
     },
     "execution_count": 108,
     "metadata": {},
     "output_type": "execute_result"
    },
    {
     "data": {
      "image/png": "[encoded data removed]",
      "text/plain": [
       "<Figure size 600x600 with 3 Axes>"
      ]
     },
     "metadata": {},
     "output_type": "display_data"
    }
   ],
   "source": [
    "sns.jointplot(x=np.log(param_space),y=test_mean)"
   ]
  },
  {
   "cell_type": "code",
   "execution_count": 79,
   "id": "b217bd7a",
   "metadata": {},
   "outputs": [],
   "source": [
    "from sklearn.linear_model import Lasso"
   ]
  },
  {
   "cell_type": "code",
   "execution_count": 81,
   "id": "684173c1",
   "metadata": {},
   "outputs": [
    {
     "data": {
      "text/plain": [
       "0.5056321286346557"
      ]
     },
     "execution_count": 81,
     "metadata": {},
     "output_type": "execute_result"
    }
   ],
   "source": [
    "lm_l = Lasso(alpha=0.5)\n",
    "lm_l.fit(x_train_scale,y_train)\n",
    "r2_score(y_test,lm_l.predict(x_test_scale))"
   ]
  },
  {
   "cell_type": "code",
   "execution_count": null,
   "id": "b19884a7",
   "metadata": {},
   "outputs": [],
   "source": [
    "from sklearn.model_selection import validation_curve "
   ]
  },
  {
   "cell_type": "code",
   "execution_count": 111,
   "id": "4a352a21",
   "metadata": {},
   "outputs": [
    {
     "data": {
      "text/plain": [
       "array([1.00000000e-02, 1.26185688e-02, 1.59228279e-02, 2.00923300e-02,\n",
       "       2.53536449e-02, 3.19926714e-02, 4.03701726e-02, 5.09413801e-02,\n",
       "       6.42807312e-02, 8.11130831e-02, 1.02353102e-01, 1.29154967e-01,\n",
       "       1.62975083e-01, 2.05651231e-01, 2.59502421e-01, 3.27454916e-01,\n",
       "       4.13201240e-01, 5.21400829e-01, 6.57933225e-01, 8.30217568e-01,\n",
       "       1.04761575e+00, 1.32194115e+00, 1.66810054e+00, 2.10490414e+00,\n",
       "       2.65608778e+00, 3.35160265e+00, 4.22924287e+00, 5.33669923e+00,\n",
       "       6.73415066e+00, 8.49753436e+00, 1.07226722e+01, 1.35304777e+01,\n",
       "       1.70735265e+01, 2.15443469e+01, 2.71858824e+01, 3.43046929e+01,\n",
       "       4.32876128e+01, 5.46227722e+01, 6.89261210e+01, 8.69749003e+01,\n",
       "       1.09749877e+02, 1.38488637e+02, 1.74752840e+02, 2.20513074e+02,\n",
       "       2.78255940e+02, 3.51119173e+02, 4.43062146e+02, 5.59081018e+02,\n",
       "       7.05480231e+02, 8.90215085e+02, 1.12332403e+03, 1.41747416e+03,\n",
       "       1.78864953e+03, 2.25701972e+03, 2.84803587e+03, 3.59381366e+03,\n",
       "       4.53487851e+03, 5.72236766e+03, 7.22080902e+03, 9.11162756e+03,\n",
       "       1.14975700e+04, 1.45082878e+04, 1.83073828e+04, 2.31012970e+04,\n",
       "       2.91505306e+04, 3.67837977e+04, 4.64158883e+04, 5.85702082e+04,\n",
       "       7.39072203e+04, 9.32603347e+04, 1.17681195e+05, 1.48496826e+05,\n",
       "       1.87381742e+05, 2.36448941e+05, 2.98364724e+05, 3.76493581e+05,\n",
       "       4.75081016e+05, 5.99484250e+05, 7.56463328e+05, 9.54548457e+05,\n",
       "       1.20450354e+06, 1.51991108e+06, 1.91791026e+06, 2.42012826e+06,\n",
       "       3.05385551e+06, 3.85352859e+06, 4.86260158e+06, 6.13590727e+06,\n",
       "       7.74263683e+06, 9.77009957e+06, 1.23284674e+07, 1.55567614e+07,\n",
       "       1.96304065e+07, 2.47707636e+07, 3.12571585e+07, 3.94420606e+07,\n",
       "       4.97702356e+07, 6.28029144e+07, 7.92482898e+07, 1.00000000e+08])"
      ]
     },
     "execution_count": 111,
     "metadata": {},
     "output_type": "execute_result"
    }
   ],
   "source": [
    "param_space = np.logspace(-2,8,100)\n",
    "param_space"
   ]
  },
  {
   "cell_type": "code",
   "execution_count": 109,
   "id": "791720fa",
   "metadata": {},
   "outputs": [],
   "source": [
    "train_score_lasso,test_score_lasso=validation_curve(\n",
    "    Lasso(),\n",
    "    x_train_scale,\n",
    "    y_train,\n",
    "    param_name=\"alpha\",\n",
    "    param_range=param_space,\n",
    "    scoring=\"r2\"\n",
    ")\n",
    "test_mean_lasso = np.mean(test_scores,axis=1)\n",
    "train_mean_lasso = np.mean(train_scores,axis=1)"
   ]
  },
  {
   "cell_type": "code",
   "execution_count": 110,
   "id": "64162237",
   "metadata": {},
   "outputs": [
    {
     "data": {
      "text/plain": [
       "<seaborn.axisgrid.JointGrid at 0x1f6c7dc2dd0>"
      ]
     },
     "execution_count": 110,
     "metadata": {},
     "output_type": "execute_result"
    },
    {
     "data": {
      "image/png": "[encoded data removed]",
      "text/plain": [
       "<Figure size 600x600 with 3 Axes>"
      ]
     },
     "metadata": {},
     "output_type": "display_data"
    }
   ],
   "source": [
    "sns.jointplot(x=np.log(param_space),y=test_mean)"
   ]
  }
 ],
 "metadata": {
  "kernelspec": {
   "display_name": "Python 3 (ipykernel)",
   "language": "python",
   "name": "python3"
  },
  "language_info": {
   "codemirror_mode": {
    "name": "ipython",
    "version": 3
   },
   "file_extension": ".py",
   "mimetype": "text/x-python",
   "name": "python",
   "nbconvert_exporter": "python",
   "pygments_lexer": "ipython3",
   "version": "3.11.3"
  }
 },
 "nbformat": 4,
 "nbformat_minor": 5
}
